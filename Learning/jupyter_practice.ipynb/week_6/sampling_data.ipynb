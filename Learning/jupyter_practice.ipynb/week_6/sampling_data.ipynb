{
 "cells": [
  {
   "cell_type": "markdown",
   "metadata": {},
   "source": [
    "- Sampling is taking a bit of a given population not the whole thing.\n",
    "- Sampling is used to infer to the population \n",
    "\n",
    "  The types of sampling </br>\n",
    "\n",
    "- Stratified sampling - data split into strata. Prior knowledge is required about the data. Its limitations is oversampling one strata more than the other strata causing unbalanced data .You have to actually split the data into groups and carryout simple random sampling on each group </br>\n",
    "\n",
    "- Simple random sampling - data is randomly chosen . The probability of all events is the same cause choosing is random. Its limit is not having a list because you do not know who you are going to sample</br>\n",
    "\n",
    "- Cluster sampling - Sampling used for large geographical areas. Its limitations is that it is location bound. In cluster we randomly pick areas and take all the people in the cluster .</br>\n",
    "\n",
    "- Systematic sampling - Selecting samples from data at predetermined intervals . Can be biased if there is no specific order to the data. It can be done with ot without a list . Its limitations is that you cannot use it if the data is already in pattern  </br>\n",
    "\n",
    "- Convenience sampling - Sampling from a population based on its availability . Its can be done under low risk conditions like asking guys about a product in a mall. This is the cheapest type of sampling . It s limitations is that the results can be very biased since your only asking a small group of people \n",
    "\n"
   ]
  },
  {
   "cell_type": "markdown",
   "metadata": {},
   "source": [
    "### Errors in sampling\n",
    "\n",
    "#### Sampling Error\n",
    "- The population percentage will be different from the sample percentage \n",
    "- The population mean will be different from the sample mean </br>\n",
    "This is usually a fact of life .. Sampling wont always be equal to the actual population \n",
    "\n",
    "#### Non sampling error\n",
    "- Error were one uses a  bad list . Ensure everyone supposed to be on the list is on the list.</br>\n",
    "Mainly by being sloppy with data collection \n",
    "\n"
   ]
  },
  {
   "cell_type": "markdown",
   "metadata": {},
   "source": [
    "### How to choose a right sampling method\n",
    "1. Population size and distribution. (large population  - cluster and systematic sampling)\n",
    "2. Resources available -simple random sampling can be expensive for a large population\n",
    "3. Desired level of precision - Stratified sampling can improve precision.\n",
    "4. Population density   - Stratified sampling works best for diverse population . "
   ]
  },
  {
   "cell_type": "markdown",
   "metadata": {},
   "source": [
    "#### Guidelines for statistical study\n",
    "1. State a hypothesis (a supposition or proposed explanation made on the basis of limited evidence as a starting point for further investigation.)\n",
    "2. Identify the individuals of interest \n",
    "3. Specify all the variables your going to measure \n",
    "4. Determine if you will use the entire population or a sample \n",
    "    - Choose a sample. Choose a sampling method \n",
    "5. Address ethical concerns before data collection .\n",
    "6. Collect the data \n",
    "7. Use descriptive or inferential statistics to answer your hypothesis\n",
    "8. Note any concerns about your data collection or analysis \n",
    "    - Make recommendations for further studies \n",
    "\n",
    "\n",
    " \n",
    "\n"
   ]
  },
  {
   "cell_type": "markdown",
   "metadata": {},
   "source": [
    "- Randomization helps prevent bias in a working group \n",
    "- The placebo effect is when a patient's condition improves after receiving a treatment that is designed to have no therapeutic benefit. This happens because of the patient's belief in the treatment and their expectation of feeling better. \n",
    " \n"
   ]
  }
 ],
 "metadata": {
  "language_info": {
   "name": "python"
  }
 },
 "nbformat": 4,
 "nbformat_minor": 2
}
