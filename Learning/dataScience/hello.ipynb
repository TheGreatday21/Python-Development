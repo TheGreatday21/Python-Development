{
 "cells": [
  {
   "cell_type": "markdown",
   "id": "aab4cd28",
   "metadata": {},
   "source": [
    "# This is a simple crash course for python for data science "
   ]
  },
  {
   "cell_type": "markdown",
   "id": "ec6a3c72",
   "metadata": {},
   "source": [
    "#### Printing in jupyter \n"
   ]
  },
  {
   "cell_type": "code",
   "execution_count": 4,
   "id": "d967db9f",
   "metadata": {},
   "outputs": [
    {
     "name": "stdout",
     "output_type": "stream",
     "text": [
      "Hello Elijah the great , how is your day going \n"
     ]
    },
    {
     "data": {
      "text/plain": [
       "'Hello world '"
      ]
     },
     "execution_count": 4,
     "metadata": {},
     "output_type": "execute_result"
    }
   ],
   "source": [
    "#the first method is to obviously use the print statement like in normal python \n",
    "print(\"Hello Elijah the great , how is your day going \")\n",
    "#or you can simply just type in what you want to be printed \n",
    "\"Hello world \"\n",
    "#this method is limited because the editor will only print the last value input if this style is used \n"
   ]
  },
  {
   "cell_type": "code",
   "execution_count": null,
   "id": "ad97081a",
   "metadata": {},
   "outputs": [
    {
     "name": "stdout",
     "output_type": "stream",
     "text": [
      "My name is Elijah and I am 20 years old\n",
      "My name is Elijah and I am 20 years old\n",
      "My name is Elijah and I am 20 years old\n"
     ]
    }
   ],
   "source": [
    "#There is also a unique way to print in python called the f-string method\n",
    "name = \"Elijah\" #This is a variable containing a string \n",
    "age = 20  #This is a variable containing an integer\n",
    "print(f\"My name is {name} and I am {age} years old\") #This is an f-string that allows you to embed variables directly into the string   \n",
    "#You can also use the format method to print strings with variables\n",
    "print(\"My name is {} and I am {} years old\".format(name, age)) ##This is another way to format strings in python, it is similar to the f-string method but it is more verbose\n",
    "#You can also use the % operator to format strings in python, this is an older method but it is still used in some cases\n",
    "print(\"My name is %s and I am %d years old\" % (name, age)) #This is an older way to format strings. Just like in c but abit different \n"
   ]
  },
  {
   "cell_type": "markdown",
   "id": "226776ae",
   "metadata": {},
   "source": [
    "#### Data types "
   ]
  },
  {
   "cell_type": "code",
   "execution_count": null,
   "id": "7ad66303",
   "metadata": {},
   "outputs": [
    {
     "data": {
      "text/plain": [
       "'\\nlist - this is a list of values that can be of any data type\\ntuple - this is a list of values that cannot be changed\\ndict - this is a dictionary that contains key value pairs\\nset - this is a set of values that cannot contain duplicates\\nNone - this is a null value that is used to indicate that a variable has no value\\ncomplex - this is a complex number that contains a real and imaginary part\\nbytes - this is a byte value that is used to store binary data\\nbytearray - this is a mutable byte value that is used to store binary data\\nfrozenset - this is a set that cannot be changed\\nrange - this is a range of values that can be used in loops\\nmemoryview - this is a memory view of a byte value that can be used to access the\\ndata in a byte value without copying it\\n'"
      ]
     },
     "execution_count": 5,
     "metadata": {},
     "output_type": "execute_result"
    }
   ],
   "source": [
    "#Data types are the same as in C\n",
    "'''\n",
    "int  - this is a whole number\n",
    "float - this is a decimal number \n",
    "str - this is a string value(character array)\n",
    "double  - (this is a long integer value )\n",
    "boolean  - this is a true or false value\n",
    "char - this is a single character \n",
    "'''\n",
    "#other data types in python 3\n",
    "'''\n",
    "list - this is a list of values that can be of any data type\n",
    "tuple - this is a list of values that cannot be changed\n",
    "dict - this is a dictionary that contains key value pairs\n",
    "set - this is a set of values that cannot contain duplicates\n",
    "None - this is a null value that is used to indicate that a variable has no value\n",
    "complex - this is a complex number that contains a real and imaginary part\n",
    "bytes - this is a byte value that is used to store binary data\n",
    "bytearray - this is a mutable byte value that is used to store binary data\n",
    "frozenset - this is a set that cannot be changed\n",
    "range - this is a range of values that can be used in loops\n",
    "memoryview - this is a memory view of a byte value that can be used to access the\n",
    "data in a byte value without copying it\n",
    "'''"
   ]
  },
  {
   "cell_type": "code",
   "execution_count": null,
   "id": "f61b6bae",
   "metadata": {},
   "outputs": [
    {
     "name": "stdout",
     "output_type": "stream",
     "text": [
      "<class 'int'>\n",
      "<class 'float'>\n",
      "<class 'bool'>\n",
      "<class 'str'>\n",
      "<class 'list'>\n",
      "<class 'tuple'>\n",
      "<class 'dict'>\n",
      "<class 'set'>\n"
     ]
    }
   ],
   "source": [
    "#integer\n",
    "print(type(1))\n",
    "#float\n",
    "print(type(1.5))\n",
    "#boolean \n",
    "print(type(True))\n",
    "#string\n",
    "print(type(\"Hello world\"))\n",
    "#list\n",
    "print(type([1, 2, 3])) #a list is technically an array in c \n",
    "#tuple\n",
    "print(type((1, 2, 3))) #a tuple is a fixed array in c \n",
    "#dict\n",
    "print(type({\"name\": \"Elijah\", \"age\": 20})) #a dict is a hash table in c. It has a key-value pair structure e.g key is  name and value is Elijah . The keys are separated from their values using a : symbol \n",
    "#set\n",
    "print(type({1, 2, 3})) #a set is a collection of unique values in c . This can be used to remove duplicates from a list and is noted by the {}"
   ]
  },
  {
   "cell_type": "code",
   "execution_count": null,
   "id": "0f02d73e",
   "metadata": {},
   "outputs": [
    {
     "name": "stdout",
     "output_type": "stream",
     "text": [
      "['Elijah', 'John', 'Jane', 'jasmine ', 'James ']\n",
      "['Nicole', 'Elijah', 'John', 'Jane', 'jasmine ', 'James ']\n",
      "Nicole\n",
      "Elijah\n",
      "John\n",
      "Jane\n",
      "jasmine \n",
      "James \n",
      "\n",
      "\n",
      "Nicole\n",
      "Elijah\n",
      "John\n",
      "Jane\n",
      "jasmine \n",
      "James \n"
     ]
    }
   ],
   "source": [
    "#array functions also apply here to  the list like the append function \n",
    "names = [\"Elijah\", \"John\", \"Jane\"  , \"jasmine \"]\n",
    "\n",
    "names.append(\"James \")#this will add the name james at the end of this list because thats how the append function works \n",
    "print(names)\n",
    "\n",
    "names.insert(0,\"Nicole\") #the insert method helps us to add a value where in the array we want it to be added , the function takes two params ( index, value )\n",
    "print(names)\n",
    "\n",
    "#we can also use loops to iterate through the list/array like in c\n",
    "for name in names:\n",
    "    print(name) #this will print each name in the list on a new line\n",
    "print(\"\\n\")#printing a new line character immediately we are out of the loop \n",
    "#this is a bit dissimilar to c because python is a smart language but something similar would be :\n",
    "\n",
    "for i in range(len(names)):#this creates a variable i that will keep track like the for loops in c the number of elements in the array  and we use the len function to determine how many values are in the array / are we iterating over \n",
    "    print(names[i])#prints the names at each index of i (python is also 0 indexed like in c )"
   ]
  },
  {
   "cell_type": "markdown",
   "id": "7f62f2ea",
   "metadata": {},
   "source": [
    "#### FUNCTIONS "
   ]
  },
  {
   "cell_type": "markdown",
   "id": "a3df9687",
   "metadata": {},
   "source": [
    "- The functions in python are basically the same as those in c "
   ]
  },
  {
   "cell_type": "code",
   "execution_count": 31,
   "id": "592bc074",
   "metadata": {},
   "outputs": [
    {
     "name": "stdout",
     "output_type": "stream",
     "text": [
      "[1, 2, 3, 5, 8, 9]\n",
      "[9, 8, 5, 3, 2, 1]\n",
      "[9, 8, 5, 3, 2, 1]\n",
      "1\n",
      "3\n",
      "5\n",
      "7\n",
      "9\n"
     ]
    }
   ],
   "source": [
    "#Python is a framework built on c libraries . It happens to have some of the functionalities straight off the bat like the sorting algorithm \n",
    "\n",
    "numbers = [2,9,1,5,3,8] #this is an array of numbers in a dis-organized manner\n",
    "numbers.sort() #this will sort the numbers in ascending order\n",
    "print(numbers) \n",
    "#To print the numbers in descending order we have to use the reverse function \n",
    "numbers.reverse() #this will reverse the order of the numbers in the array\n",
    "print(numbers) #this will print the numbers in descending order\n",
    "\n",
    "#or the reverse function can be integrated into the sorting function\n",
    "numbers.sort(reverse=True) #this will sort the numbers in descending order\n",
    "print(numbers) \n",
    "\n",
    "#another function we can use is the range function with a loop \n",
    "#range(startValue, endValue , seperaterBetweenThem)\n",
    "\n",
    "for i in range(1,10,2):\n",
    "    print(i)"
   ]
  },
  {
   "cell_type": "code",
   "execution_count": 25,
   "id": "6329d7ff",
   "metadata": {},
   "outputs": [
    {
     "name": "stdout",
     "output_type": "stream",
     "text": [
      "When we add 89 and 10 we get 99\n"
     ]
    }
   ],
   "source": [
    "#We can also create our own functions in python just lke in c \n",
    "# the criteria is a bit different but its overall the same criteria \n",
    "'''\n",
    "def function(<params>):\n",
    "    <code>\n",
    "    return <data>\n",
    "'''\n",
    "\n",
    "def add(a, b):\n",
    "    c = a + b\n",
    "    return c\n",
    "\n",
    "a = int(input(\"Enter your first number :\"))\n",
    "b = int(input(\"Enter your second number :\"))\n",
    "print(f\"When we add {a} and {b} we get {add(a,b)}\")\n",
    "#easyyyy "
   ]
  },
  {
   "cell_type": "markdown",
   "id": "9d75c132",
   "metadata": {},
   "source": [
    "#### Dictionaries "
   ]
  },
  {
   "cell_type": "code",
   "execution_count": 24,
   "id": "d7807e6d",
   "metadata": {},
   "outputs": [
    {
     "name": "stdout",
     "output_type": "stream",
     "text": [
      "dict_values([['Stacy', 'Kisha', 'Betty'], [20, 21, 22], ['A', 'B', 'A']])\n",
      "dict_keys(['names', 'ages', 'grades'])\n",
      "['Stacy', 'Kisha', 'Betty']\n",
      "[20, 21, 22]\n",
      "['A', 'B', 'A']\n",
      "Stacy\n",
      "{'names': ['Stacy', 'Kisha', 'Betty'], 'grades': ['A', 'B', 'A']}\n",
      "{'names': ['Stacy', 'Kisha', 'Betty']}\n"
     ]
    }
   ],
   "source": [
    "students = {\"names\": [\"Stacy\",\"Kisha\",\"Betty\"], \"ages\": [20, 21, 22], \"grades\": ['A', 'B', 'A']} #this is a dictionary that contains key value pairs\n",
    "#we can see both the keys and the values in our dictionary \n",
    "\n",
    "print(students.values()) #this will print the values in the dictionary\n",
    "print(students.keys())#this prints all the keys in the dictionary \n",
    "\n",
    "#we can also access the values in the dictionary using the keys\n",
    "print(students[\"names\"]) #this will print the names in the dictionary\n",
    "print(students[\"ages\"]) #this will print the ages in the dictionary\n",
    "print(students[\"grades\"]) #this will print the grades in the dictionary\n",
    "\n",
    "#indexing also applies in this case \n",
    "print(students[\"names\"][0]) #this will print the first name at index 0 in the names list\n",
    "\n",
    "#to completely clear all the key value pairs in the dictionary we use the clear function \n",
    "#students.clear() #this will clear all the key value pairs in the dictionary\n",
    "#print(students) #this will print the empty dictionary\n",
    "\n",
    "#to remove a key and its values from the dictionary we use the pop function \n",
    "students.pop(\"ages\") #this will remove the ages key and its values from the dictionary\n",
    "print(students) #this will print the dictionary without the ages key and its values\n",
    "#the other way is to use the delete function \n",
    "del students[\"grades\"] #this will delete the grades key and its values from the dictionary\n",
    "print(students) #this will print the dictionary without the grades key and its values"
   ]
  },
  {
   "cell_type": "code",
   "execution_count": 22,
   "id": "d880e373",
   "metadata": {},
   "outputs": [
    {
     "name": "stdout",
     "output_type": "stream",
     "text": [
      "names : Stacy\n",
      "names : Kisha\n",
      "names : Betty\n",
      "ages : 20\n",
      "ages : 21\n",
      "ages : 22\n",
      "grades : A\n",
      "grades : B\n",
      "grades : A\n"
     ]
    }
   ],
   "source": [
    "#Using a for loop on a dictionary \n",
    "\n",
    "data  = {\"names\": [\"Stacy\",\"Kisha\",\"Betty\"], \"ages\": [20, 21, 22], \"grades\": ['A', 'B', 'A']}\n",
    "\n",
    "\n",
    "for key,value in data.items(): #its the only way we can be able to print the values in the dictionary  :\n",
    "    for i in range(len(value)):\n",
    "        print(key,\":\",value[i])\n",
    "        "
   ]
  },
  {
   "cell_type": "markdown",
   "id": "2d9c693a",
   "metadata": {},
   "source": [
    "#### IF STATEMENTS \n"
   ]
  },
  {
   "cell_type": "code",
   "execution_count": null,
   "id": "fdae8174",
   "metadata": {},
   "outputs": [
    {
     "name": "stdout",
     "output_type": "stream",
     "text": [
      "Thats not your name twat \n"
     ]
    }
   ],
   "source": [
    "#This is pretty much very similar to c if statements \n",
    "#same criteria applies here\n",
    "name = \"Elijah\"\n",
    "name  = \"Jany\"\n",
    "\n",
    "if name == \"Elijah\":\n",
    "    print(\"Well done you little bugger \")\n",
    "elif name == \"Jany\":\n",
    "    print(\"Heyy sweet cheeks \") \n",
    "else:\n",
    "    print(\"Thats not your name twat \")"
   ]
  },
  {
   "cell_type": "markdown",
   "id": "1104ae75",
   "metadata": {},
   "source": [
    "#### LISTS "
   ]
  },
  {
   "cell_type": "code",
   "execution_count": 42,
   "id": "429ddd9c",
   "metadata": {},
   "outputs": [
    {
     "name": "stdout",
     "output_type": "stream",
     "text": [
      "Welcome citizen of Germany\n",
      "Welcome citizen of Germany\n"
     ]
    }
   ],
   "source": [
    "## we can also use this when dealing with dictionaries  and lists \n",
    "\n",
    "##WAY 1\n",
    "countries = [\"Uganda\",\"Kenya\",\"Morroco\",\"Germany\",\"France\"]\n",
    "\n",
    "userInput = input(\"What country are you in ?\")\n",
    "\n",
    "\n",
    "if userInput in countries:\n",
    "    index = countries.index(userInput)\n",
    "    print(f\"Welcome citizen of {countries[index]}\")\n",
    "   \n",
    "else:\n",
    "    print(\"We donot know that country \")\n",
    "    \n",
    "\n",
    "##WAY 2\n",
    "countries = [\"Uganda\",\"Kenya\",\"Morroco\",\"Germany\",\"France\"]\n",
    "\n",
    "userInput = input(\"What country are you in ?\")\n",
    "\n",
    "for country in countries :\n",
    "    if userInput == country:\n",
    "        print(f\"Welcome citizen of {country}\")\n",
    "        break\n",
    "else:# we place the else statement outside the for loop so that it can completely iterate through our list without just breaking out of it \n",
    "    print(\"We do not know that country \")\n",
    "\n",
    "\n"
   ]
  },
  {
   "cell_type": "code",
   "execution_count": 45,
   "id": "0ecb6b76",
   "metadata": {},
   "outputs": [
    {
     "name": "stdout",
     "output_type": "stream",
     "text": [
      "0 : Uganda\n",
      "1 : Kenya\n",
      "2 : Morroco\n",
      "3 : Germany\n",
      "4 : France\n"
     ]
    }
   ],
   "source": [
    "# we can also enumerate our code \n",
    "countries = [\"Uganda\",\"Kenya\",\"Morroco\",\"Germany\",\"France\"]\n",
    "for i,country in enumerate(countries) :\n",
    "    print(i,':',country) #this will print the index and the country in the list\n",
    "    "
   ]
  },
  {
   "cell_type": "code",
   "execution_count": null,
   "id": "74080fa3",
   "metadata": {},
   "outputs": [
    {
     "name": "stdout",
     "output_type": "stream",
     "text": [
      "['Uganda', 'Kenya', 'Morroco', 'Germany', 'France']\n",
      "['Uganda', 'Kenya', 'Morroco', 'Germany', 'France']\n",
      "['Uganda', 'Kenya', 'Morroco', 'Germany', 'France', 'Egypt']\n"
     ]
    }
   ],
   "source": [
    "#There are numerous ways to copy a list one of them being slicing a list \n",
    "#### WAY 1\n",
    "countries = [\"Uganda\",\"Kenya\",\"Morroco\",\"Germany\",\"France\"]\n",
    "newList = countries[:]\n",
    "newList#this will have the exact same things as the original list cause we sliced from index 0 to the last index using :\n",
    "\n",
    "#### WAY 2\n",
    "#we can also use the copy function \n",
    "newList = countries.copy()\n",
    "print(newList)\n",
    "\n",
    "newList.append(\"Egypt\")\n",
    "\n",
    "print(countries)#original \n",
    "print(newList)#copy with an appended value "
   ]
  },
  {
   "cell_type": "markdown",
   "id": "0e31aefa",
   "metadata": {},
   "source": [
    "#### MODULES\n",
    "- OS MODULE "
   ]
  },
  {
   "cell_type": "code",
   "execution_count": null,
   "id": "ee577fd7",
   "metadata": {},
   "outputs": [
    {
     "data": {
      "text/plain": [
       "['hello.ipynb']"
      ]
     },
     "execution_count": 38,
     "metadata": {},
     "output_type": "execute_result"
    }
   ],
   "source": [
    "#The only way to access an os module we use import key word \n",
    "import os\n",
    "\n",
    "os.getcwd() #this method is to get the current working directory \n",
    "os.listdir() #lists all the files in the directory being used currently \n",
    "#os.mkdir(\"vibeCode\") #this is how we can make a new folder in the directory we are in \n",
    "#os.rmdir(\"vibeCode/\") #this is to remove a folder in the current working directory \n"
   ]
  },
  {
   "cell_type": "markdown",
   "id": "ae23f41b",
   "metadata": {},
   "source": [
    "## PANDAS\n",
    "-----------------------------------------------------------------------------\n",
    "\n",
    "In pandas we mainly work with 1D Arrays and 2D Arrays (series and dataframes)\n",
    "\n",
    "To use 2D arrays we use Numpy \n",
    "<br>You can also create a data-frame using a dictionary "
   ]
  },
  {
   "cell_type": "code",
   "execution_count": 2,
   "id": "905766b5",
   "metadata": {},
   "outputs": [],
   "source": [
    "#we first import the modules \n",
    "import pandas as pd \n",
    "import numpy as np \n"
   ]
  },
  {
   "cell_type": "code",
   "execution_count": 41,
   "id": "4151a9ca",
   "metadata": {},
   "outputs": [],
   "source": [
    "#creating an array \n",
    "\n",
    "data = np.array([[1,4], [2,5], [3,6]])"
   ]
  },
  {
   "cell_type": "code",
   "execution_count": null,
   "id": "398c2d0f",
   "metadata": {},
   "outputs": [],
   "source": [
    "#creating a dataframe using pandas \n",
    "data = np.array([[1,4], [2,5], [3,6]])\n",
    "\n",
    "#You have to use an array to create a data frame\n",
    "\n",
    "dataFrame = pd.DataFrame(data ,index = [\"row1\",\"row2\",\"row3\"], columns=[\"col1\",\"col2\",\"col3\"])\n",
    "#this takes 3 criteria . The array, then the names of the columns \n",
    "dataFrame"
   ]
  },
  {
   "cell_type": "code",
   "execution_count": 9,
   "id": "2cf8012a",
   "metadata": {},
   "outputs": [
    {
     "data": {
      "text/html": [
       "<div>\n",
       "<style scoped>\n",
       "    .dataframe tbody tr th:only-of-type {\n",
       "        vertical-align: middle;\n",
       "    }\n",
       "\n",
       "    .dataframe tbody tr th {\n",
       "        vertical-align: top;\n",
       "    }\n",
       "\n",
       "    .dataframe thead th {\n",
       "        text-align: right;\n",
       "    }\n",
       "</style>\n",
       "<table border=\"1\" class=\"dataframe\">\n",
       "  <thead>\n",
       "    <tr style=\"text-align: right;\">\n",
       "      <th></th>\n",
       "      <th>col1</th>\n",
       "      <th>col2</th>\n",
       "    </tr>\n",
       "  </thead>\n",
       "  <tbody>\n",
       "    <tr>\n",
       "      <th>row1</th>\n",
       "      <td>1</td>\n",
       "      <td>4</td>\n",
       "    </tr>\n",
       "    <tr>\n",
       "      <th>row2</th>\n",
       "      <td>2</td>\n",
       "      <td>5</td>\n",
       "    </tr>\n",
       "    <tr>\n",
       "      <th>row3</th>\n",
       "      <td>3</td>\n",
       "      <td>6</td>\n",
       "    </tr>\n",
       "  </tbody>\n",
       "</table>\n",
       "</div>"
      ],
      "text/plain": [
       "      col1  col2\n",
       "row1     1     4\n",
       "row2     2     5\n",
       "row3     3     6"
      ]
     },
     "execution_count": 9,
     "metadata": {},
     "output_type": "execute_result"
    }
   ],
   "source": [
    "data = [[1,4], [2,5], [3,6]]\n",
    "\n",
    "df = pd.DataFrame(data, index=['row1', 'row2', 'row3'],\n",
    "                 columns=['col1', 'col2'])\n",
    "df"
   ]
  },
  {
   "cell_type": "markdown",
   "id": "6e704da9",
   "metadata": {},
   "source": [
    "##### Creating a dataframe from a dictionary \n"
   ]
  },
  {
   "cell_type": "code",
   "execution_count": 52,
   "id": "960f64a0",
   "metadata": {},
   "outputs": [
    {
     "data": {
      "text/html": [
       "<div>\n",
       "<style scoped>\n",
       "    .dataframe tbody tr th:only-of-type {\n",
       "        vertical-align: middle;\n",
       "    }\n",
       "\n",
       "    .dataframe tbody tr th {\n",
       "        vertical-align: top;\n",
       "    }\n",
       "\n",
       "    .dataframe thead th {\n",
       "        text-align: right;\n",
       "    }\n",
       "</style>\n",
       "<table border=\"1\" class=\"dataframe\">\n",
       "  <thead>\n",
       "    <tr style=\"text-align: right;\">\n",
       "      <th></th>\n",
       "      <th>States</th>\n",
       "      <th>Population</th>\n",
       "    </tr>\n",
       "  </thead>\n",
       "  <tbody>\n",
       "    <tr>\n",
       "      <th>0</th>\n",
       "      <td>California</td>\n",
       "      <td>2342342432432</td>\n",
       "    </tr>\n",
       "    <tr>\n",
       "      <th>1</th>\n",
       "      <td>Texas</td>\n",
       "      <td>32424324324</td>\n",
       "    </tr>\n",
       "    <tr>\n",
       "      <th>2</th>\n",
       "      <td>Florida</td>\n",
       "      <td>2342234232</td>\n",
       "    </tr>\n",
       "    <tr>\n",
       "      <th>3</th>\n",
       "      <td>New York</td>\n",
       "      <td>23423423435</td>\n",
       "    </tr>\n",
       "  </tbody>\n",
       "</table>\n",
       "</div>"
      ],
      "text/plain": [
       "       States     Population\n",
       "0  California  2342342432432\n",
       "1       Texas    32424324324\n",
       "2     Florida     2342234232\n",
       "3    New York    23423423435"
      ]
     },
     "execution_count": 52,
     "metadata": {},
     "output_type": "execute_result"
    }
   ],
   "source": [
    "states = ['California','Texas','Florida','New York']\n",
    "population = [2342342432432,32424324324,2342234232,23423423435]\n",
    "\n",
    "dictStates = {'States': states, 'Population':population}\n",
    "\n",
    "dfPopulation = pd.DataFrame(dictStates)\n",
    "dfPopulation"
   ]
  },
  {
   "cell_type": "code",
   "execution_count": 6,
   "id": "34aa0acb",
   "metadata": {},
   "outputs": [],
   "source": [
    "\n",
    "# we can also create a dataframe using a csv file . \n",
    "data2 = pd.read_excel(\"DIAMONDS.xlsx\") #you place the dataset you want in the qoutes "
   ]
  },
  {
   "cell_type": "markdown",
   "id": "608825be",
   "metadata": {},
   "source": [
    "#### Functions in pandas "
   ]
  },
  {
   "cell_type": "code",
   "execution_count": null,
   "id": "cffdfb02",
   "metadata": {},
   "outputs": [
    {
     "data": {
      "text/html": [
       "<div>\n",
       "<style scoped>\n",
       "    .dataframe tbody tr th:only-of-type {\n",
       "        vertical-align: middle;\n",
       "    }\n",
       "\n",
       "    .dataframe tbody tr th {\n",
       "        vertical-align: top;\n",
       "    }\n",
       "\n",
       "    .dataframe thead th {\n",
       "        text-align: right;\n",
       "    }\n",
       "</style>\n",
       "<table border=\"1\" class=\"dataframe\">\n",
       "  <thead>\n",
       "    <tr style=\"text-align: right;\">\n",
       "      <th></th>\n",
       "      <th>price</th>\n",
       "      <th>carat</th>\n",
       "      <th>cut</th>\n",
       "      <th>color</th>\n",
       "      <th>clarity</th>\n",
       "      <th>depth</th>\n",
       "      <th>table</th>\n",
       "      <th>x</th>\n",
       "      <th>y</th>\n",
       "      <th>z</th>\n",
       "    </tr>\n",
       "  </thead>\n",
       "  <tbody>\n",
       "    <tr>\n",
       "      <th>0</th>\n",
       "      <td>326</td>\n",
       "      <td>0.23</td>\n",
       "      <td>Ideal</td>\n",
       "      <td>E</td>\n",
       "      <td>SI2</td>\n",
       "      <td>61.5</td>\n",
       "      <td>55.0</td>\n",
       "      <td>3.95</td>\n",
       "      <td>3.98</td>\n",
       "      <td>2.43</td>\n",
       "    </tr>\n",
       "    <tr>\n",
       "      <th>1</th>\n",
       "      <td>326</td>\n",
       "      <td>0.21</td>\n",
       "      <td>Premium</td>\n",
       "      <td>E</td>\n",
       "      <td>SI1</td>\n",
       "      <td>59.8</td>\n",
       "      <td>61.0</td>\n",
       "      <td>3.89</td>\n",
       "      <td>3.84</td>\n",
       "      <td>2.31</td>\n",
       "    </tr>\n",
       "    <tr>\n",
       "      <th>2</th>\n",
       "      <td>327</td>\n",
       "      <td>0.23</td>\n",
       "      <td>Good</td>\n",
       "      <td>E</td>\n",
       "      <td>VS1</td>\n",
       "      <td>56.9</td>\n",
       "      <td>65.0</td>\n",
       "      <td>4.05</td>\n",
       "      <td>4.07</td>\n",
       "      <td>2.31</td>\n",
       "    </tr>\n",
       "    <tr>\n",
       "      <th>3</th>\n",
       "      <td>334</td>\n",
       "      <td>0.29</td>\n",
       "      <td>Premium</td>\n",
       "      <td>I</td>\n",
       "      <td>VS2</td>\n",
       "      <td>62.4</td>\n",
       "      <td>58.0</td>\n",
       "      <td>4.20</td>\n",
       "      <td>4.23</td>\n",
       "      <td>2.63</td>\n",
       "    </tr>\n",
       "    <tr>\n",
       "      <th>4</th>\n",
       "      <td>335</td>\n",
       "      <td>0.31</td>\n",
       "      <td>Good</td>\n",
       "      <td>J</td>\n",
       "      <td>SI2</td>\n",
       "      <td>63.3</td>\n",
       "      <td>58.0</td>\n",
       "      <td>4.34</td>\n",
       "      <td>4.35</td>\n",
       "      <td>2.75</td>\n",
       "    </tr>\n",
       "  </tbody>\n",
       "</table>\n",
       "</div>"
      ],
      "text/plain": [
       "   price  carat      cut color clarity  depth  table     x     y     z\n",
       "0    326   0.23    Ideal     E     SI2   61.5   55.0  3.95  3.98  2.43\n",
       "1    326   0.21  Premium     E     SI1   59.8   61.0  3.89  3.84  2.31\n",
       "2    327   0.23     Good     E     VS1   56.9   65.0  4.05  4.07  2.31\n",
       "3    334   0.29  Premium     I     VS2   62.4   58.0  4.20  4.23  2.63\n",
       "4    335   0.31     Good     J     SI2   63.3   58.0  4.34  4.35  2.75"
      ]
     },
     "execution_count": 7,
     "metadata": {},
     "output_type": "execute_result"
    }
   ],
   "source": [
    "#head function - to see the first 5 rows in the columns \n",
    "data2.head(5)\n",
    "\n",
    "#\n",
    "\n"
   ]
  },
  {
   "cell_type": "code",
   "execution_count": null,
   "id": "fb238b89",
   "metadata": {},
   "outputs": [],
   "source": []
  }
 ],
 "metadata": {
  "kernelspec": {
   "display_name": "Python 3",
   "language": "python",
   "name": "python3"
  },
  "language_info": {
   "codemirror_mode": {
    "name": "ipython",
    "version": 3
   },
   "file_extension": ".py",
   "mimetype": "text/x-python",
   "name": "python",
   "nbconvert_exporter": "python",
   "pygments_lexer": "ipython3",
   "version": "3.12.4"
  }
 },
 "nbformat": 4,
 "nbformat_minor": 5
}
