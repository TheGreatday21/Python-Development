{
 "cells": [
  {
   "cell_type": "markdown",
   "id": "c1fa5ff6",
   "metadata": {},
   "source": [
    "### KAWOOMA ELIJAH\n",
    "### B29158\n",
    "### E.D.A in Python"
   ]
  },
  {
   "cell_type": "code",
   "execution_count": 1,
   "id": "cd99da0c",
   "metadata": {},
   "outputs": [],
   "source": [
    "#carryout EDA on the data set and remove outliers before proceeding with it \n",
    "\n",
    "#importing the neccessary libraries am going to use \n",
    "import pandas as pd\n"
   ]
  },
  {
   "cell_type": "markdown",
   "id": "8312d280",
   "metadata": {},
   "source": [
    "- importing the data set into our file\n"
   ]
  },
  {
   "cell_type": "code",
   "execution_count": 2,
   "id": "3c2f3de2",
   "metadata": {},
   "outputs": [],
   "source": [
    "data1 = pd.read_excel(\"D:/Elijah/Year_2/Data_and_Big_Data_in_R/data_sets/Student_performance.xlsx\")"
   ]
  },
  {
   "cell_type": "code",
   "execution_count": 3,
   "id": "d958ce70",
   "metadata": {},
   "outputs": [
    {
     "data": {
      "text/html": [
       "<div>\n",
       "<style scoped>\n",
       "    .dataframe tbody tr th:only-of-type {\n",
       "        vertical-align: middle;\n",
       "    }\n",
       "\n",
       "    .dataframe tbody tr th {\n",
       "        vertical-align: top;\n",
       "    }\n",
       "\n",
       "    .dataframe thead th {\n",
       "        text-align: right;\n",
       "    }\n",
       "</style>\n",
       "<table border=\"1\" class=\"dataframe\">\n",
       "  <thead>\n",
       "    <tr style=\"text-align: right;\">\n",
       "      <th></th>\n",
       "      <th>Access_no</th>\n",
       "      <th>gender</th>\n",
       "      <th>age</th>\n",
       "      <th>course</th>\n",
       "      <th>DSC3108</th>\n",
       "      <th>DSC3114</th>\n",
       "      <th>MTH3108</th>\n",
       "      <th>SYE3104</th>\n",
       "    </tr>\n",
       "  </thead>\n",
       "  <tbody>\n",
       "    <tr>\n",
       "      <th>count</th>\n",
       "      <td>11.000000</td>\n",
       "      <td>11</td>\n",
       "      <td>11.000000</td>\n",
       "      <td>10</td>\n",
       "      <td>10.000000</td>\n",
       "      <td>10.000000</td>\n",
       "      <td>11.000000</td>\n",
       "      <td>11.000000</td>\n",
       "    </tr>\n",
       "    <tr>\n",
       "      <th>unique</th>\n",
       "      <td>NaN</td>\n",
       "      <td>2</td>\n",
       "      <td>NaN</td>\n",
       "      <td>3</td>\n",
       "      <td>NaN</td>\n",
       "      <td>NaN</td>\n",
       "      <td>NaN</td>\n",
       "      <td>NaN</td>\n",
       "    </tr>\n",
       "    <tr>\n",
       "      <th>top</th>\n",
       "      <td>NaN</td>\n",
       "      <td>female</td>\n",
       "      <td>NaN</td>\n",
       "      <td>Computer_Science</td>\n",
       "      <td>NaN</td>\n",
       "      <td>NaN</td>\n",
       "      <td>NaN</td>\n",
       "      <td>NaN</td>\n",
       "    </tr>\n",
       "    <tr>\n",
       "      <th>freq</th>\n",
       "      <td>NaN</td>\n",
       "      <td>6</td>\n",
       "      <td>NaN</td>\n",
       "      <td>4</td>\n",
       "      <td>NaN</td>\n",
       "      <td>NaN</td>\n",
       "      <td>NaN</td>\n",
       "      <td>NaN</td>\n",
       "    </tr>\n",
       "    <tr>\n",
       "      <th>mean</th>\n",
       "      <td>496.545455</td>\n",
       "      <td>NaN</td>\n",
       "      <td>21.454545</td>\n",
       "      <td>NaN</td>\n",
       "      <td>63.200000</td>\n",
       "      <td>76.300000</td>\n",
       "      <td>70.090909</td>\n",
       "      <td>62.818182</td>\n",
       "    </tr>\n",
       "    <tr>\n",
       "      <th>std</th>\n",
       "      <td>278.903339</td>\n",
       "      <td>NaN</td>\n",
       "      <td>0.522233</td>\n",
       "      <td>NaN</td>\n",
       "      <td>24.220285</td>\n",
       "      <td>16.418486</td>\n",
       "      <td>18.030278</td>\n",
       "      <td>25.956957</td>\n",
       "    </tr>\n",
       "    <tr>\n",
       "      <th>min</th>\n",
       "      <td>123.000000</td>\n",
       "      <td>NaN</td>\n",
       "      <td>21.000000</td>\n",
       "      <td>NaN</td>\n",
       "      <td>25.000000</td>\n",
       "      <td>40.000000</td>\n",
       "      <td>38.000000</td>\n",
       "      <td>19.000000</td>\n",
       "    </tr>\n",
       "    <tr>\n",
       "      <th>25%</th>\n",
       "      <td>317.500000</td>\n",
       "      <td>NaN</td>\n",
       "      <td>21.000000</td>\n",
       "      <td>NaN</td>\n",
       "      <td>47.250000</td>\n",
       "      <td>70.000000</td>\n",
       "      <td>64.500000</td>\n",
       "      <td>42.000000</td>\n",
       "    </tr>\n",
       "    <tr>\n",
       "      <th>50%</th>\n",
       "      <td>415.000000</td>\n",
       "      <td>NaN</td>\n",
       "      <td>21.000000</td>\n",
       "      <td>NaN</td>\n",
       "      <td>67.500000</td>\n",
       "      <td>76.500000</td>\n",
       "      <td>78.000000</td>\n",
       "      <td>65.000000</td>\n",
       "    </tr>\n",
       "    <tr>\n",
       "      <th>75%</th>\n",
       "      <td>723.500000</td>\n",
       "      <td>NaN</td>\n",
       "      <td>22.000000</td>\n",
       "      <td>NaN</td>\n",
       "      <td>85.000000</td>\n",
       "      <td>86.000000</td>\n",
       "      <td>79.000000</td>\n",
       "      <td>86.500000</td>\n",
       "    </tr>\n",
       "    <tr>\n",
       "      <th>max</th>\n",
       "      <td>892.000000</td>\n",
       "      <td>NaN</td>\n",
       "      <td>22.000000</td>\n",
       "      <td>NaN</td>\n",
       "      <td>91.000000</td>\n",
       "      <td>98.000000</td>\n",
       "      <td>92.000000</td>\n",
       "      <td>93.000000</td>\n",
       "    </tr>\n",
       "  </tbody>\n",
       "</table>\n",
       "</div>"
      ],
      "text/plain": [
       "         Access_no  gender        age            course    DSC3108    DSC3114  \\\n",
       "count    11.000000      11  11.000000                10  10.000000  10.000000   \n",
       "unique         NaN       2        NaN                 3        NaN        NaN   \n",
       "top            NaN  female        NaN  Computer_Science        NaN        NaN   \n",
       "freq           NaN       6        NaN                 4        NaN        NaN   \n",
       "mean    496.545455     NaN  21.454545               NaN  63.200000  76.300000   \n",
       "std     278.903339     NaN   0.522233               NaN  24.220285  16.418486   \n",
       "min     123.000000     NaN  21.000000               NaN  25.000000  40.000000   \n",
       "25%     317.500000     NaN  21.000000               NaN  47.250000  70.000000   \n",
       "50%     415.000000     NaN  21.000000               NaN  67.500000  76.500000   \n",
       "75%     723.500000     NaN  22.000000               NaN  85.000000  86.000000   \n",
       "max     892.000000     NaN  22.000000               NaN  91.000000  98.000000   \n",
       "\n",
       "          MTH3108    SYE3104  \n",
       "count   11.000000  11.000000  \n",
       "unique        NaN        NaN  \n",
       "top           NaN        NaN  \n",
       "freq          NaN        NaN  \n",
       "mean    70.090909  62.818182  \n",
       "std     18.030278  25.956957  \n",
       "min     38.000000  19.000000  \n",
       "25%     64.500000  42.000000  \n",
       "50%     78.000000  65.000000  \n",
       "75%     79.000000  86.500000  \n",
       "max     92.000000  93.000000  "
      ]
     },
     "execution_count": 3,
     "metadata": {},
     "output_type": "execute_result"
    }
   ],
   "source": [
    "data1.describe(include=\"all\")"
   ]
  },
  {
   "cell_type": "code",
   "execution_count": 4,
   "id": "669fd740",
   "metadata": {},
   "outputs": [
    {
     "data": {
      "text/plain": [
       "Access_no    0\n",
       "gender       0\n",
       "age          0\n",
       "course       1\n",
       "DSC3108      1\n",
       "DSC3114      1\n",
       "MTH3108      0\n",
       "SYE3104      0\n",
       "dtype: int64"
      ]
     },
     "execution_count": 4,
     "metadata": {},
     "output_type": "execute_result"
    }
   ],
   "source": [
    "#to determine the number of missing values in our data set \n",
    "data1.isnull().sum() #the isnull function doesnt return boolean so its useful when doing calculation on percentage missing data\n"
   ]
  },
  {
   "cell_type": "code",
   "execution_count": null,
   "id": "194a4041",
   "metadata": {},
   "outputs": [
    {
     "data": {
      "text/html": [
       "<div>\n",
       "<style scoped>\n",
       "    .dataframe tbody tr th:only-of-type {\n",
       "        vertical-align: middle;\n",
       "    }\n",
       "\n",
       "    .dataframe tbody tr th {\n",
       "        vertical-align: top;\n",
       "    }\n",
       "\n",
       "    .dataframe thead th {\n",
       "        text-align: right;\n",
       "    }\n",
       "</style>\n",
       "<table border=\"1\" class=\"dataframe\">\n",
       "  <thead>\n",
       "    <tr style=\"text-align: right;\">\n",
       "      <th></th>\n",
       "      <th>Access_no</th>\n",
       "      <th>gender</th>\n",
       "      <th>age</th>\n",
       "      <th>course</th>\n",
       "      <th>DSC3108</th>\n",
       "      <th>DSC3114</th>\n",
       "      <th>MTH3108</th>\n",
       "      <th>SYE3104</th>\n",
       "    </tr>\n",
       "  </thead>\n",
       "  <tbody>\n",
       "    <tr>\n",
       "      <th>0</th>\n",
       "      <td>123</td>\n",
       "      <td>female</td>\n",
       "      <td>21</td>\n",
       "      <td>Computer_Science</td>\n",
       "      <td>89.0</td>\n",
       "      <td>88.0</td>\n",
       "      <td>72</td>\n",
       "      <td>65</td>\n",
       "    </tr>\n",
       "    <tr>\n",
       "      <th>1</th>\n",
       "      <td>415</td>\n",
       "      <td>male</td>\n",
       "      <td>22</td>\n",
       "      <td>Computer_Science</td>\n",
       "      <td>91.0</td>\n",
       "      <td>98.0</td>\n",
       "      <td>88</td>\n",
       "      <td>89</td>\n",
       "    </tr>\n",
       "    <tr>\n",
       "      <th>2</th>\n",
       "      <td>321</td>\n",
       "      <td>male</td>\n",
       "      <td>21</td>\n",
       "      <td>Data_Science</td>\n",
       "      <td>73.0</td>\n",
       "      <td>70.0</td>\n",
       "      <td>38</td>\n",
       "      <td>41</td>\n",
       "    </tr>\n",
       "    <tr>\n",
       "      <th>3</th>\n",
       "      <td>124</td>\n",
       "      <td>female</td>\n",
       "      <td>21</td>\n",
       "      <td>Information_Technology</td>\n",
       "      <td>30.0</td>\n",
       "      <td>40.0</td>\n",
       "      <td>60</td>\n",
       "      <td>31</td>\n",
       "    </tr>\n",
       "    <tr>\n",
       "      <th>4</th>\n",
       "      <td>314</td>\n",
       "      <td>female</td>\n",
       "      <td>22</td>\n",
       "      <td>Computer_Science</td>\n",
       "      <td>70.0</td>\n",
       "      <td>75.0</td>\n",
       "      <td>78</td>\n",
       "      <td>60</td>\n",
       "    </tr>\n",
       "    <tr>\n",
       "      <th>5</th>\n",
       "      <td>891</td>\n",
       "      <td>male</td>\n",
       "      <td>21</td>\n",
       "      <td>Information_Technology</td>\n",
       "      <td>25.0</td>\n",
       "      <td>70.0</td>\n",
       "      <td>69</td>\n",
       "      <td>19</td>\n",
       "    </tr>\n",
       "    <tr>\n",
       "      <th>6</th>\n",
       "      <td>729</td>\n",
       "      <td>female</td>\n",
       "      <td>22</td>\n",
       "      <td>Data_Science</td>\n",
       "      <td>65.0</td>\n",
       "      <td>80.0</td>\n",
       "      <td>38</td>\n",
       "      <td>43</td>\n",
       "    </tr>\n",
       "    <tr>\n",
       "      <th>7</th>\n",
       "      <td>892</td>\n",
       "      <td>female</td>\n",
       "      <td>21</td>\n",
       "      <td>Data_Science</td>\n",
       "      <td>90.0</td>\n",
       "      <td>95.0</td>\n",
       "      <td>92</td>\n",
       "      <td>93</td>\n",
       "    </tr>\n",
       "    <tr>\n",
       "      <th>8</th>\n",
       "      <td>545</td>\n",
       "      <td>male</td>\n",
       "      <td>22</td>\n",
       "      <td>NaN</td>\n",
       "      <td>54.0</td>\n",
       "      <td>69.0</td>\n",
       "      <td>78</td>\n",
       "      <td>77</td>\n",
       "    </tr>\n",
       "    <tr>\n",
       "      <th>9</th>\n",
       "      <td>718</td>\n",
       "      <td>female</td>\n",
       "      <td>21</td>\n",
       "      <td>Information_Technology</td>\n",
       "      <td>NaN</td>\n",
       "      <td>78.0</td>\n",
       "      <td>79</td>\n",
       "      <td>88</td>\n",
       "    </tr>\n",
       "    <tr>\n",
       "      <th>10</th>\n",
       "      <td>390</td>\n",
       "      <td>male</td>\n",
       "      <td>22</td>\n",
       "      <td>Computer_Science</td>\n",
       "      <td>45.0</td>\n",
       "      <td>NaN</td>\n",
       "      <td>79</td>\n",
       "      <td>85</td>\n",
       "    </tr>\n",
       "  </tbody>\n",
       "</table>\n",
       "</div>"
      ],
      "text/plain": [
       "    Access_no  gender  age                  course  DSC3108  DSC3114  MTH3108  \\\n",
       "0         123  female   21        Computer_Science     89.0     88.0       72   \n",
       "1         415    male   22        Computer_Science     91.0     98.0       88   \n",
       "2         321    male   21            Data_Science     73.0     70.0       38   \n",
       "3         124  female   21  Information_Technology     30.0     40.0       60   \n",
       "4         314  female   22        Computer_Science     70.0     75.0       78   \n",
       "5         891    male   21  Information_Technology     25.0     70.0       69   \n",
       "6         729  female   22            Data_Science     65.0     80.0       38   \n",
       "7         892  female   21            Data_Science     90.0     95.0       92   \n",
       "8         545    male   22                     NaN     54.0     69.0       78   \n",
       "9         718  female   21  Information_Technology      NaN     78.0       79   \n",
       "10        390    male   22        Computer_Science     45.0      NaN       79   \n",
       "\n",
       "    SYE3104  \n",
       "0        65  \n",
       "1        89  \n",
       "2        41  \n",
       "3        31  \n",
       "4        60  \n",
       "5        19  \n",
       "6        43  \n",
       "7        93  \n",
       "8        77  \n",
       "9        88  \n",
       "10       85  "
      ]
     },
     "execution_count": 6,
     "metadata": {},
     "output_type": "execute_result"
    }
   ],
   "source": [
    "data1\n",
    "#ths daata set only has 1o columns so removing the 3 is quite heavy "
   ]
  },
  {
   "cell_type": "markdown",
   "id": "c4d0e733",
   "metadata": {},
   "source": [
    "- we can handle missing data in 3 ways \n",
    "- replacing with 0 - if you are sure the data mising is not relevant . Youll be given notes to indicate this to you \n",
    "\n",
    "- using the mean - if its normally distributed \n",
    "- using median when its not normally ditributed / skewed\n",
    "- using mode when dealing with categorical data like text "
   ]
  },
  {
   "cell_type": "code",
   "execution_count": 8,
   "id": "48d69c7e",
   "metadata": {},
   "outputs": [
    {
     "data": {
      "text/plain": [
       "np.float64(27.27272727272727)"
      ]
     },
     "execution_count": 8,
     "metadata": {},
     "output_type": "execute_result"
    }
   ],
   "source": [
    "(data1.isnull().sum().sum()/len(data1))*100"
   ]
  },
  {
   "cell_type": "markdown",
   "id": "bed82a25",
   "metadata": {},
   "source": [
    "- here the dataset is losing 27% data which is heavy for this dataset \n",
    "- if your data is less you should use like 5%"
   ]
  },
  {
   "cell_type": "code",
   "execution_count": 15,
   "id": "953628f3",
   "metadata": {},
   "outputs": [
    {
     "data": {
      "text/plain": [
       "<Axes: >"
      ]
     },
     "execution_count": 15,
     "metadata": {},
     "output_type": "execute_result"
    },
    {
     "data": {
      "image/png": "[encoded data removed]",
      "text/plain": [
       "<Figure size 640x480 with 1 Axes>"
      ]
     },
     "metadata": {},
     "output_type": "display_data"
    }
   ],
   "source": [
    "\n",
    "import seaborn as sn\n",
    "sn.barplot(data1)\n",
    "#ploting the data to see its distribution "
   ]
  },
  {
   "cell_type": "code",
   "execution_count": null,
   "id": "14e24429",
   "metadata": {},
   "outputs": [
    {
     "data": {
      "text/html": [
       "<div>\n",
       "<style scoped>\n",
       "    .dataframe tbody tr th:only-of-type {\n",
       "        vertical-align: middle;\n",
       "    }\n",
       "\n",
       "    .dataframe tbody tr th {\n",
       "        vertical-align: top;\n",
       "    }\n",
       "\n",
       "    .dataframe thead th {\n",
       "        text-align: right;\n",
       "    }\n",
       "</style>\n",
       "<table border=\"1\" class=\"dataframe\">\n",
       "  <thead>\n",
       "    <tr style=\"text-align: right;\">\n",
       "      <th></th>\n",
       "      <th>Access_no</th>\n",
       "      <th>age</th>\n",
       "      <th>DSC3108</th>\n",
       "      <th>DSC3114</th>\n",
       "      <th>MTH3108</th>\n",
       "      <th>SYE3104</th>\n",
       "    </tr>\n",
       "  </thead>\n",
       "  <tbody>\n",
       "    <tr>\n",
       "      <th>count</th>\n",
       "      <td>11.000000</td>\n",
       "      <td>11.000000</td>\n",
       "      <td>10.000000</td>\n",
       "      <td>10.000000</td>\n",
       "      <td>11.000000</td>\n",
       "      <td>11.000000</td>\n",
       "    </tr>\n",
       "    <tr>\n",
       "      <th>mean</th>\n",
       "      <td>496.545455</td>\n",
       "      <td>21.454545</td>\n",
       "      <td>63.200000</td>\n",
       "      <td>76.300000</td>\n",
       "      <td>70.090909</td>\n",
       "      <td>62.818182</td>\n",
       "    </tr>\n",
       "    <tr>\n",
       "      <th>std</th>\n",
       "      <td>278.903339</td>\n",
       "      <td>0.522233</td>\n",
       "      <td>24.220285</td>\n",
       "      <td>16.418486</td>\n",
       "      <td>18.030278</td>\n",
       "      <td>25.956957</td>\n",
       "    </tr>\n",
       "    <tr>\n",
       "      <th>min</th>\n",
       "      <td>123.000000</td>\n",
       "      <td>21.000000</td>\n",
       "      <td>25.000000</td>\n",
       "      <td>40.000000</td>\n",
       "      <td>38.000000</td>\n",
       "      <td>19.000000</td>\n",
       "    </tr>\n",
       "    <tr>\n",
       "      <th>25%</th>\n",
       "      <td>317.500000</td>\n",
       "      <td>21.000000</td>\n",
       "      <td>47.250000</td>\n",
       "      <td>70.000000</td>\n",
       "      <td>64.500000</td>\n",
       "      <td>42.000000</td>\n",
       "    </tr>\n",
       "    <tr>\n",
       "      <th>50%</th>\n",
       "      <td>415.000000</td>\n",
       "      <td>21.000000</td>\n",
       "      <td>67.500000</td>\n",
       "      <td>76.500000</td>\n",
       "      <td>78.000000</td>\n",
       "      <td>65.000000</td>\n",
       "    </tr>\n",
       "    <tr>\n",
       "      <th>75%</th>\n",
       "      <td>723.500000</td>\n",
       "      <td>22.000000</td>\n",
       "      <td>85.000000</td>\n",
       "      <td>86.000000</td>\n",
       "      <td>79.000000</td>\n",
       "      <td>86.500000</td>\n",
       "    </tr>\n",
       "    <tr>\n",
       "      <th>max</th>\n",
       "      <td>892.000000</td>\n",
       "      <td>22.000000</td>\n",
       "      <td>91.000000</td>\n",
       "      <td>98.000000</td>\n",
       "      <td>92.000000</td>\n",
       "      <td>93.000000</td>\n",
       "    </tr>\n",
       "  </tbody>\n",
       "</table>\n",
       "</div>"
      ],
      "text/plain": [
       "        Access_no        age    DSC3108    DSC3114    MTH3108    SYE3104\n",
       "count   11.000000  11.000000  10.000000  10.000000  11.000000  11.000000\n",
       "mean   496.545455  21.454545  63.200000  76.300000  70.090909  62.818182\n",
       "std    278.903339   0.522233  24.220285  16.418486  18.030278  25.956957\n",
       "min    123.000000  21.000000  25.000000  40.000000  38.000000  19.000000\n",
       "25%    317.500000  21.000000  47.250000  70.000000  64.500000  42.000000\n",
       "50%    415.000000  21.000000  67.500000  76.500000  78.000000  65.000000\n",
       "75%    723.500000  22.000000  85.000000  86.000000  79.000000  86.500000\n",
       "max    892.000000  22.000000  91.000000  98.000000  92.000000  93.000000"
      ]
     },
     "execution_count": 16,
     "metadata": {},
     "output_type": "execute_result"
    }
   ],
   "source": [
    "data1.describe()\n",
    "#if the mean is lower than the mediann , the data is not normally distributed "
   ]
  },
  {
   "cell_type": "markdown",
   "id": "0658fed6",
   "metadata": {},
   "source": [
    "- so replacing the missing values in the dataset like in DSC3114 DSC3108 and COURSE"
   ]
  },
  {
   "cell_type": "code",
   "execution_count": null,
   "id": "74d04cf2",
   "metadata": {},
   "outputs": [],
   "source": [
    "#filling in the missing data in column DSC3108\n",
    "data1[\"DSC3108\"] =  data1[\"DSC3108\"].fillna(data1[\"DSC3108\"].median())"
   ]
  },
  {
   "cell_type": "code",
   "execution_count": 18,
   "id": "4f986a01",
   "metadata": {},
   "outputs": [],
   "source": [
    "#filling in the missing data in column DSC\n",
    "data1[\"DSC3114\"] = data1[\"DSC3114\"].fillna(data1[\"DSC3114\"].median())"
   ]
  },
  {
   "cell_type": "code",
   "execution_count": 23,
   "id": "1b6c4ed1",
   "metadata": {},
   "outputs": [],
   "source": [
    "#filling in the missing values for column course\n",
    "data1[\"course\"] = data1[\"course\"].fillna(data1[\"course\"].mode()[0])"
   ]
  },
  {
   "cell_type": "code",
   "execution_count": null,
   "id": "a3754134",
   "metadata": {},
   "outputs": [
    {
     "data": {
      "text/plain": [
       "Access_no    0\n",
       "gender       0\n",
       "age          0\n",
       "course       0\n",
       "DSC3108      0\n",
       "DSC3114      0\n",
       "MTH3108      0\n",
       "SYE3104      0\n",
       "dtype: int64"
      ]
     },
     "execution_count": 24,
     "metadata": {},
     "output_type": "execute_result"
    }
   ],
   "source": [
    "data1.isnull().sum()\n",
    "#no more missing values "
   ]
  },
  {
   "cell_type": "code",
   "execution_count": 25,
   "id": "9a171b1d",
   "metadata": {},
   "outputs": [
    {
     "data": {
      "text/plain": [
       "<Axes: ylabel='Count'>"
      ]
     },
     "execution_count": 25,
     "metadata": {},
     "output_type": "execute_result"
    },
    {
     "data": {
      "image/png": "[encoded data removed]",
      "text/plain": [
       "<Figure size 640x480 with 1 Axes>"
      ]
     },
     "metadata": {},
     "output_type": "display_data"
    }
   ],
   "source": [
    "sn.histplot(data1)"
   ]
  }
 ],
 "metadata": {
  "kernelspec": {
   "display_name": "Python 3",
   "language": "python",
   "name": "python3"
  },
  "language_info": {
   "codemirror_mode": {
    "name": "ipython",
    "version": 3
   },
   "file_extension": ".py",
   "mimetype": "text/x-python",
   "name": "python",
   "nbconvert_exporter": "python",
   "pygments_lexer": "ipython3",
   "version": "3.13.5"
  }
 },
 "nbformat": 4,
 "nbformat_minor": 5
}
