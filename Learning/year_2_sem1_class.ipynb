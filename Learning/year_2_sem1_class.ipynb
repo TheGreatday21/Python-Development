{
 "cells": [
  {
   "cell_type": "markdown",
   "id": "d0b3ffc5",
   "metadata": {},
   "source": [
    "# Advanced Python Notes \n",
    "## Name : Kawooma Elijah Kaizzi \n",
    "## Access Number : B29158 "
   ]
  },
  {
   "cell_type": "markdown",
   "id": "bf86383a",
   "metadata": {},
   "source": [
    "#### 1. *args and **Kwags\n",
    "##### Concept summary \n",
    "- These refer to special parameters used in python when creating a function . They provide flexibility in a way that a programmer can handle multiple inputs to their function since the args and kwags provide a virtually arbitary number of arguments \n",
    "\n",
    "The * at the start of a list is called an unpacking operator since it allows python to print each individual element in a python list instead of printing the entire list object\n",
    "'''\n"
   ]
  },
  {
   "cell_type": "markdown",
   "id": "9f8e2db9",
   "metadata": {},
   "source": [
    "#### *args\n",
    "- args  store the \"positional arguments\" in form of a tuple . This variable with the preceeding * is used to store a tuple of inputs . The official naming convention is calling it args but you can name it as to what you want your program to do . For example "
   ]
  },
  {
   "cell_type": "code",
   "execution_count": null,
   "id": "623d9ce0",
   "metadata": {},
   "outputs": [
    {
     "name": "stdout",
     "output_type": "stream",
     "text": [
      "You have ordered a choclate ice cream with the following toppings: \n",
      "red cherry,sprinkles,choclate chips,"
     ]
    }
   ],
   "source": [
    "#ICE CREAM STORE \n",
    "def ice_cream(kind , *toppings ):\n",
    "    print(f\"You have ordered a {kind} ice cream with the following toppings: \")\n",
    "    for topping in toppings:\n",
    "        print(topping,sep=\"\\t\\t\")#using a loop to iterate over the toople and print each individual element in the toople \n",
    "\n",
    "ice_cream(\"choclate\",\"red cherry\",\"sprinkles\",\"choclate chips\")"
   ]
  },
  {
   "cell_type": "markdown",
   "id": "afee41cf",
   "metadata": {},
   "source": [
    "- You can also use args to do computations in functions "
   ]
  },
  {
   "cell_type": "code",
   "execution_count": 16,
   "id": "7ef8ea2d",
   "metadata": {},
   "outputs": [
    {
     "name": "stdout",
     "output_type": "stream",
     "text": [
      "The sum of the numbers is : 25\n"
     ]
    }
   ],
   "source": [
    "#addition\n",
    "def addition(*numbers):\n",
    "    sum = 0\n",
    "    for num in numbers:\n",
    "        sum += num#this adds all the arguments into the sum variable \n",
    "    return sum\n",
    "print(f\"The sum of the numbers is : {addition(10,2,4,9)}\")\n"
   ]
  },
  {
   "cell_type": "markdown",
   "id": "f9c6a84b",
   "metadata": {},
   "source": [
    "#### **kwags\n",
    "- These store \"key word arguments\" inform of a dictionary . They also take multiple inputs of keyword arguments and these variables are preceeded with a double * . The common naming convention is kwags but you can make this flexible with your program "
   ]
  },
  {
   "cell_type": "code",
   "execution_count": null,
   "id": "e13c0151",
   "metadata": {},
   "outputs": [
    {
     "name": "stdout",
     "output_type": "stream",
     "text": [
      "hello there Elijah, please verify your details are properly stated as follows below: \n",
      "Gender:Male\n",
      "Year_of_Study:year 2\n",
      "Registered:True\n"
     ]
    }
   ],
   "source": [
    "#STUDENT INFORMATION \n",
    "def student_information (name, **details):\n",
    "    print(f\"hello there {name}, please verify your details are properly stated as follows below: \")\n",
    "    for detail in details:\n",
    "       print(detail, details[detail], sep=\":\")\n",
    "\n",
    "student_information(\"Elijah\", Gender=\"Male\",Year_of_Study = \"year 2\",Age = 23,Registered=True)"
   ]
  },
  {
   "cell_type": "code",
   "execution_count": 11,
   "id": "9d12c3b3",
   "metadata": {},
   "outputs": [
    {
     "name": "stdout",
     "output_type": "stream",
     "text": [
      "Hello, Ada :)\n",
      "Hello, Guido :)\n"
     ]
    }
   ],
   "source": [
    "def greet(*names, punctuation=\"!\"):\n",
    "    for n in names:\n",
    "        print(f\"Hello, {n}{punctuation}\")\n",
    "\n",
    "greet(\"Ada\", \"Guido\", punctuation=\" :)\")\n"
   ]
  },
  {
   "cell_type": "markdown",
   "id": "b9e4ecb2",
   "metadata": {},
   "source": [
    "##### NOTE\n",
    "- *args and **kwargs can both be used in the same function . Hence the function can accept both positional and key word arguments \n"
   ]
  },
  {
   "cell_type": "code",
   "execution_count": 21,
   "id": "e65737f9",
   "metadata": {},
   "outputs": [
    {
     "name": "stdout",
     "output_type": "stream",
     "text": [
      "Movie name: Big Hero 6\n",
      "genre:Action\n",
      "boxoffice:True\n",
      "\n",
      "\n",
      "Movie name: Creed\n",
      "genre:Action\n",
      "boxoffice:True\n",
      "\n",
      "\n",
      "Movie name: A.O.T\n",
      "genre:Action\n",
      "boxoffice:True\n",
      "\n",
      "\n"
     ]
    }
   ],
   "source": [
    "def cinema(*movies,**details):\n",
    "    #this is iterating over only blockbuster action movies \n",
    "    for movie in movies:\n",
    "        print(f\"Movie name: {movie}\")\n",
    "        for detail in details:\n",
    "            print(detail,details[detail], sep=\":\")\n",
    "        print(\"\\n\")\n",
    "\n",
    "cinema(\"Big Hero 6\",\"Creed\",\"A.O.T\", genre = \"Action\", boxoffice=True)\n",
    "\n"
   ]
  }
 ],
 "metadata": {
  "kernelspec": {
   "display_name": "Python 3",
   "language": "python",
   "name": "python3"
  },
  "language_info": {
   "codemirror_mode": {
    "name": "ipython",
    "version": 3
   },
   "file_extension": ".py",
   "mimetype": "text/x-python",
   "name": "python",
   "nbconvert_exporter": "python",
   "pygments_lexer": "ipython3",
   "version": "3.13.5"
  }
 },
 "nbformat": 4,
 "nbformat_minor": 5
}
