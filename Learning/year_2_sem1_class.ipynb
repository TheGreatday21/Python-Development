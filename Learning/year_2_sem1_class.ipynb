{
 "cells": [
  {
   "cell_type": "markdown",
   "id": "d0b3ffc5",
   "metadata": {},
   "source": [
    "# Advanced Python Notes \n",
    "## Name : Kawooma Elijah Kaizzi \n",
    "## Access Number : B29158 "
   ]
  },
  {
   "cell_type": "markdown",
   "id": "bf86383a",
   "metadata": {},
   "source": [
    "#### 1. *args and **Kwags\n",
    "##### Concept summary \n",
    "- These refer to special parameters used in python when creating a function . They provide flexibility in a way that a programmer can handle multiple inputs to their function since the args and kwags provide a virtually arbitary number of arguments \n",
    "\n"
   ]
  },
  {
   "cell_type": "markdown",
   "id": "9f8e2db9",
   "metadata": {},
   "source": [
    "#### *args (arguments)\n",
    "- args  store the \"positional arguments\" in form of a tuple . This variable with the preceeding * is used to store a tuple of inputs . The official naming convention is calling it args but you can name it as to what you want your program to do . \n",
    "\n",
    "- They generally use the unpacking operator( *) at the start of the variable . This operator prints each individual element in a python list instead of printing the entire list object. \n",
    "\n",
    "- The unpacking operator allows us to pack any number of postional arguments \n",
    "\n",
    "\n",
    "\n"
   ]
  },
  {
   "cell_type": "code",
   "execution_count": null,
   "id": "623d9ce0",
   "metadata": {},
   "outputs": [
    {
     "name": "stdout",
     "output_type": "stream",
     "text": [
      "You have ordered a choclate ice cream with the following toppings: \n",
      "red cherry,sprinkles,choclate chips,"
     ]
    }
   ],
   "source": [
    "#ICE CREAM STORE \n",
    "def ice_cream(kind , *toppings ):\n",
    "    print(f\"You have ordered a {kind} ice cream with the following toppings: \")\n",
    "    for topping in toppings:\n",
    "        print(topping,sep=\"\\t\\t\")#using a loop to iterate over the toople and print each individual element in the toople \n",
    "\n",
    "ice_cream(\"choclate\",\"red cherry\",\"sprinkles\",\"choclate chips\")"
   ]
  },
  {
   "cell_type": "markdown",
   "id": "afee41cf",
   "metadata": {},
   "source": [
    "- You can also use args to do computations in functions "
   ]
  },
  {
   "cell_type": "code",
   "execution_count": null,
   "id": "7ef8ea2d",
   "metadata": {},
   "outputs": [
    {
     "name": "stdout",
     "output_type": "stream",
     "text": [
      "The sum of the numbers is : 25\n"
     ]
    }
   ],
   "source": [
    "#addition\n",
    "def addition(*numbers):\n",
    "    sum = 0\n",
    "    for num in numbers:\n",
    "        sum += num #this adds all the arguments into the sum variable \n",
    "    return sum\n",
    "print(f\"The sum of the numbers is : {addition(10,2,4,9)}\")\n"
   ]
  },
  {
   "cell_type": "markdown",
   "id": "f9c6a84b",
   "metadata": {},
   "source": [
    "#### **kwags (key word arguments)\n",
    "- These store \"key word arguments\" inform of a dictionary . They also take multiple inputs of keyword arguments and these variables are preceeded with a double * . The common naming convention is kwags but you can make this flexible with your program \n",
    "\n",
    "- kwags use 2 unpacking operators preceeding the variable to store the key word arguments in form of a dictionary \n"
   ]
  },
  {
   "cell_type": "code",
   "execution_count": null,
   "id": "e13c0151",
   "metadata": {},
   "outputs": [
    {
     "name": "stdout",
     "output_type": "stream",
     "text": [
      "hello there Elijah, please verify your details are properly stated as follows below: \n",
      "Gender:Male\n",
      "Year_of_Study:year 2\n",
      "Registered:True\n"
     ]
    }
   ],
   "source": [
    "#STUDENT INFORMATION \n",
    "def student_information (name, **details):\n",
    "    print(f\"hello there {name}, please verify your details are properly stated as follows below: \")\n",
    "    for detail in details:\n",
    "       print(detail, details[detail], sep=\":\")\n",
    "\n",
    "student_information(\"Elijah\", Gender=\"Male\",Year_of_Study = \"year 2\",Age = 23,Registered=True)"
   ]
  },
  {
   "cell_type": "code",
   "execution_count": 11,
   "id": "9d12c3b3",
   "metadata": {},
   "outputs": [
    {
     "name": "stdout",
     "output_type": "stream",
     "text": [
      "Hello, Ada :)\n",
      "Hello, Guido :)\n"
     ]
    }
   ],
   "source": [
    "def greet(*names, punctuation=\"!\"):\n",
    "    for n in names:\n",
    "        print(f\"Hello, {n}{punctuation}\")\n",
    "\n",
    "greet(\"Ada\", \"Guido\", punctuation=\" :)\")\n"
   ]
  },
  {
   "cell_type": "markdown",
   "id": "b9e4ecb2",
   "metadata": {},
   "source": [
    "##### NOTE\n",
    "- *args and **kwargs can both be used in the same function . Hence the function can accept both positional and key word arguments \n",
    "\n",
    "The example below is of a high order function using a wrapper but taking both args and kwags as arguments \n"
   ]
  },
  {
   "cell_type": "code",
   "execution_count": 14,
   "id": "e65737f9",
   "metadata": {},
   "outputs": [
    {
     "name": "stdout",
     "output_type": "stream",
     "text": [
      "calling greet with args = ('Alice',), kwags = {'age': 25}\n"
     ]
    },
    {
     "data": {
      "text/plain": [
       "'Hello Alice, age = 25'"
      ]
     },
     "execution_count": 14,
     "metadata": {},
     "output_type": "execute_result"
    }
   ],
   "source": [
    "def logger(func):#this is the function we are going to wrap \n",
    "\n",
    "    #this is the wrapper function \n",
    "    def wrapper(*args,**kwags):\n",
    "        print(f\"calling {func.__name__} with args = {args}, kwags = {kwags}\")\n",
    "        return func(*args,**kwags)\n",
    "    return wrapper\n",
    "\n",
    "@logger #wraapper function call syntax .The wrapper will use the greet function as its parameter \n",
    "def greet(name, age=None):\n",
    "    return f\"Hello {name}, age = {age}\"\n",
    "'''\n",
    "def greet(name, age=None):\n",
    "    return f\"Hello {name}, age={age}\"\n",
    "\n",
    "greet = logger(greet)\n",
    "'''\n",
    "greet(\"Alice\",age =25)\n",
    "\n",
    "\n"
   ]
  },
  {
   "cell_type": "markdown",
   "id": "d89d03b5",
   "metadata": {},
   "source": [
    "- The pitfall is that the parameters must be in order \n",
    "\n",
    "```\n",
    "def func(positional, *args, keyword , **kwags ):\n",
    "```\n"
   ]
  },
  {
   "cell_type": "markdown",
   "id": "70dbe4d4",
   "metadata": {},
   "source": [
    "### 2. Lambda functions \n",
    "\n",
    "#### Concept summary \n",
    "- This is a function that is denoted by typing the word lambda , followed by the inputs and the expression .\n",
    "- These can only have single line expressions . It just returns values .but have multiple inputs ie it can take in a list or dictionary(iterables)\n",
    "- They are annonymouos functions i.e they arent bound by an identifier.\n",
    "- These are made to be passed into a higher order function(a function that can take in another function as an input ) "
   ]
  },
  {
   "cell_type": "code",
   "execution_count": null,
   "id": "2690355f",
   "metadata": {},
   "outputs": [
    {
     "data": {
      "text/plain": [
       "10"
      ]
     },
     "execution_count": 16,
     "metadata": {},
     "output_type": "execute_result"
    }
   ],
   "source": [
    "#Example 1\n",
    "def add(x,y):\n",
    "    return x+y\n",
    "add(4,5)\n",
    "\n",
    "#this lambdaa function will do exactly what the function above is doing with just one line of code \n",
    "add2 = lambda x,y : x+y#we added a variable to store lambdas return value and print it out \n",
    "add2(5,5)\n",
    "\n",
    "#or you can simply use \n",
    "print((lambda x,y: x+y)(10,23))"
   ]
  },
  {
   "cell_type": "code",
   "execution_count": null,
   "id": "b99864ff",
   "metadata": {},
   "outputs": [
    {
     "name": "stdout",
     "output_type": "stream",
     "text": [
      "[29791, 8, 1, 125, 216]\n"
     ]
    }
   ],
   "source": [
    "#higher order function \n",
    "def my_map(my_func,my_iter): ##the hOrder function will take in a function and iterable like a list as params \n",
    "    result = []#creating an empty list to store all the cubbed values \n",
    "    for item  in my_iter: ##iterating over the list \n",
    "        new_item = my_func(item)\n",
    "        result.append(new_item)\n",
    "    return(result)\n",
    "\n",
    "nums = [31,2,1,5,6]#list of numbers (iterable)\n",
    "\n",
    "print(my_map(lambda x: x**3, nums)) ##printing out our output from the lambda function"
   ]
  }
 ],
 "metadata": {
  "kernelspec": {
   "display_name": "Python 3",
   "language": "python",
   "name": "python3"
  },
  "language_info": {
   "codemirror_mode": {
    "name": "ipython",
    "version": 3
   },
   "file_extension": ".py",
   "mimetype": "text/x-python",
   "name": "python",
   "nbconvert_exporter": "python",
   "pygments_lexer": "ipython3",
   "version": "3.13.5"
  }
 },
 "nbformat": 4,
 "nbformat_minor": 5
}
