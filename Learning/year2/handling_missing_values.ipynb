{
 "cells": [
  {
   "cell_type": "markdown",
   "id": "ee3b2517",
   "metadata": {},
   "source": [
    "### KAWOOMA ELIJAH\n",
    "### M24B38/023\n",
    "### B29158\n",
    "\n",
    "#### HANDLING MISSING VALUES ASSIGNMENT 1"
   ]
  },
  {
   "cell_type": "code",
   "execution_count": 2,
   "id": "4861418b",
   "metadata": {},
   "outputs": [],
   "source": [
    "##calling the neccessary libraries\n",
    "import pandas as pd #for creating a dataframe\n",
    "import seaborn as sn #for visualisations"
   ]
  },
  {
   "cell_type": "code",
   "execution_count": 14,
   "id": "d272bc5f",
   "metadata": {},
   "outputs": [],
   "source": [
    "data = pd.read_excel(\"C:/Users/STUDENTS/Desktop/Elijah_Kaizzi_B29158/Python/Learning/year2/Student_performance.xlsx\")\n"
   ]
  },
  {
   "cell_type": "markdown",
   "id": "1efb34cd",
   "metadata": {},
   "source": [
    "- Getting a statistical overview of the data \n"
   ]
  },
  {
   "cell_type": "code",
   "execution_count": 15,
   "id": "967f4c92",
   "metadata": {},
   "outputs": [
    {
     "data": {
      "text/html": [
       "<div>\n",
       "<style scoped>\n",
       "    .dataframe tbody tr th:only-of-type {\n",
       "        vertical-align: middle;\n",
       "    }\n",
       "\n",
       "    .dataframe tbody tr th {\n",
       "        vertical-align: top;\n",
       "    }\n",
       "\n",
       "    .dataframe thead th {\n",
       "        text-align: right;\n",
       "    }\n",
       "</style>\n",
       "<table border=\"1\" class=\"dataframe\">\n",
       "  <thead>\n",
       "    <tr style=\"text-align: right;\">\n",
       "      <th></th>\n",
       "      <th>Access_no</th>\n",
       "      <th>gender</th>\n",
       "      <th>age</th>\n",
       "      <th>course</th>\n",
       "      <th>DSC3108</th>\n",
       "      <th>DSC3114</th>\n",
       "      <th>MTH3108</th>\n",
       "      <th>SYE3104</th>\n",
       "    </tr>\n",
       "  </thead>\n",
       "  <tbody>\n",
       "    <tr>\n",
       "      <th>count</th>\n",
       "      <td>11.000000</td>\n",
       "      <td>11</td>\n",
       "      <td>11.000000</td>\n",
       "      <td>10</td>\n",
       "      <td>10.000000</td>\n",
       "      <td>10.000000</td>\n",
       "      <td>11.000000</td>\n",
       "      <td>11.000000</td>\n",
       "    </tr>\n",
       "    <tr>\n",
       "      <th>unique</th>\n",
       "      <td>NaN</td>\n",
       "      <td>2</td>\n",
       "      <td>NaN</td>\n",
       "      <td>3</td>\n",
       "      <td>NaN</td>\n",
       "      <td>NaN</td>\n",
       "      <td>NaN</td>\n",
       "      <td>NaN</td>\n",
       "    </tr>\n",
       "    <tr>\n",
       "      <th>top</th>\n",
       "      <td>NaN</td>\n",
       "      <td>female</td>\n",
       "      <td>NaN</td>\n",
       "      <td>Computer_Science</td>\n",
       "      <td>NaN</td>\n",
       "      <td>NaN</td>\n",
       "      <td>NaN</td>\n",
       "      <td>NaN</td>\n",
       "    </tr>\n",
       "    <tr>\n",
       "      <th>freq</th>\n",
       "      <td>NaN</td>\n",
       "      <td>6</td>\n",
       "      <td>NaN</td>\n",
       "      <td>4</td>\n",
       "      <td>NaN</td>\n",
       "      <td>NaN</td>\n",
       "      <td>NaN</td>\n",
       "      <td>NaN</td>\n",
       "    </tr>\n",
       "    <tr>\n",
       "      <th>mean</th>\n",
       "      <td>496.545455</td>\n",
       "      <td>NaN</td>\n",
       "      <td>21.454545</td>\n",
       "      <td>NaN</td>\n",
       "      <td>63.200000</td>\n",
       "      <td>76.300000</td>\n",
       "      <td>70.090909</td>\n",
       "      <td>62.818182</td>\n",
       "    </tr>\n",
       "    <tr>\n",
       "      <th>std</th>\n",
       "      <td>278.903339</td>\n",
       "      <td>NaN</td>\n",
       "      <td>0.522233</td>\n",
       "      <td>NaN</td>\n",
       "      <td>24.220285</td>\n",
       "      <td>16.418486</td>\n",
       "      <td>18.030278</td>\n",
       "      <td>25.956957</td>\n",
       "    </tr>\n",
       "    <tr>\n",
       "      <th>min</th>\n",
       "      <td>123.000000</td>\n",
       "      <td>NaN</td>\n",
       "      <td>21.000000</td>\n",
       "      <td>NaN</td>\n",
       "      <td>25.000000</td>\n",
       "      <td>40.000000</td>\n",
       "      <td>38.000000</td>\n",
       "      <td>19.000000</td>\n",
       "    </tr>\n",
       "    <tr>\n",
       "      <th>25%</th>\n",
       "      <td>317.500000</td>\n",
       "      <td>NaN</td>\n",
       "      <td>21.000000</td>\n",
       "      <td>NaN</td>\n",
       "      <td>47.250000</td>\n",
       "      <td>70.000000</td>\n",
       "      <td>64.500000</td>\n",
       "      <td>42.000000</td>\n",
       "    </tr>\n",
       "    <tr>\n",
       "      <th>50%</th>\n",
       "      <td>415.000000</td>\n",
       "      <td>NaN</td>\n",
       "      <td>21.000000</td>\n",
       "      <td>NaN</td>\n",
       "      <td>67.500000</td>\n",
       "      <td>76.500000</td>\n",
       "      <td>78.000000</td>\n",
       "      <td>65.000000</td>\n",
       "    </tr>\n",
       "    <tr>\n",
       "      <th>75%</th>\n",
       "      <td>723.500000</td>\n",
       "      <td>NaN</td>\n",
       "      <td>22.000000</td>\n",
       "      <td>NaN</td>\n",
       "      <td>85.000000</td>\n",
       "      <td>86.000000</td>\n",
       "      <td>79.000000</td>\n",
       "      <td>86.500000</td>\n",
       "    </tr>\n",
       "    <tr>\n",
       "      <th>max</th>\n",
       "      <td>892.000000</td>\n",
       "      <td>NaN</td>\n",
       "      <td>22.000000</td>\n",
       "      <td>NaN</td>\n",
       "      <td>91.000000</td>\n",
       "      <td>98.000000</td>\n",
       "      <td>92.000000</td>\n",
       "      <td>93.000000</td>\n",
       "    </tr>\n",
       "  </tbody>\n",
       "</table>\n",
       "</div>"
      ],
      "text/plain": [
       "         Access_no  gender        age            course    DSC3108    DSC3114  \\\n",
       "count    11.000000      11  11.000000                10  10.000000  10.000000   \n",
       "unique         NaN       2        NaN                 3        NaN        NaN   \n",
       "top            NaN  female        NaN  Computer_Science        NaN        NaN   \n",
       "freq           NaN       6        NaN                 4        NaN        NaN   \n",
       "mean    496.545455     NaN  21.454545               NaN  63.200000  76.300000   \n",
       "std     278.903339     NaN   0.522233               NaN  24.220285  16.418486   \n",
       "min     123.000000     NaN  21.000000               NaN  25.000000  40.000000   \n",
       "25%     317.500000     NaN  21.000000               NaN  47.250000  70.000000   \n",
       "50%     415.000000     NaN  21.000000               NaN  67.500000  76.500000   \n",
       "75%     723.500000     NaN  22.000000               NaN  85.000000  86.000000   \n",
       "max     892.000000     NaN  22.000000               NaN  91.000000  98.000000   \n",
       "\n",
       "          MTH3108    SYE3104  \n",
       "count   11.000000  11.000000  \n",
       "unique        NaN        NaN  \n",
       "top           NaN        NaN  \n",
       "freq          NaN        NaN  \n",
       "mean    70.090909  62.818182  \n",
       "std     18.030278  25.956957  \n",
       "min     38.000000  19.000000  \n",
       "25%     64.500000  42.000000  \n",
       "50%     78.000000  65.000000  \n",
       "75%     79.000000  86.500000  \n",
       "max     92.000000  93.000000  "
      ]
     },
     "execution_count": 15,
     "metadata": {},
     "output_type": "execute_result"
    }
   ],
   "source": [
    "data.describe(include= 'all')"
   ]
  },
  {
   "cell_type": "markdown",
   "id": "055ad2c1",
   "metadata": {},
   "source": [
    "- Checking for the data types of all the variables "
   ]
  },
  {
   "cell_type": "code",
   "execution_count": 5,
   "id": "8d92d72d",
   "metadata": {},
   "outputs": [
    {
     "data": {
      "text/plain": [
       "Access_no      int64\n",
       "gender        object\n",
       "age            int64\n",
       "course        object\n",
       "DSC3108      float64\n",
       "DSC3114      float64\n",
       "MTH3108        int64\n",
       "SYE3104        int64\n",
       "dtype: object"
      ]
     },
     "execution_count": 5,
     "metadata": {},
     "output_type": "execute_result"
    }
   ],
   "source": [
    "data.dtypes"
   ]
  },
  {
   "cell_type": "markdown",
   "id": "46affe1d",
   "metadata": {},
   "source": [
    "- Checking for the missing values for each individual column "
   ]
  },
  {
   "cell_type": "code",
   "execution_count": 9,
   "id": "7235a685",
   "metadata": {},
   "outputs": [
    {
     "data": {
      "text/plain": [
       "Access_no    0\n",
       "gender       0\n",
       "age          0\n",
       "course       1\n",
       "DSC3108      1\n",
       "DSC3114      1\n",
       "MTH3108      0\n",
       "SYE3104      0\n",
       "dtype: int64"
      ]
     },
     "execution_count": 9,
     "metadata": {},
     "output_type": "execute_result"
    }
   ],
   "source": [
    "data.isna().sum()"
   ]
  },
  {
   "cell_type": "markdown",
   "id": "72e5e710",
   "metadata": {},
   "source": [
    "#### Handling the missing values\n",
    "\n",
    "#### Method 1 of filling  using measures of central tendency "
   ]
  },
  {
   "cell_type": "markdown",
   "id": "a471ef4d",
   "metadata": {},
   "source": [
    "\n",
    "- the following rows have missing values\n",
    "\n",
    "1. course       1 - categorical \n",
    "2. DSC3108      1 - numerical\n",
    "3. DSC3114      1 - numerical"
   ]
  },
  {
   "cell_type": "markdown",
   "id": "668ed320",
   "metadata": {},
   "source": [
    "- Since the data set is not very large, simply removing the missing values results in a heavy lose of data so we impute"
   ]
  },
  {
   "cell_type": "code",
   "execution_count": 6,
   "id": "c00d4afe",
   "metadata": {},
   "outputs": [],
   "source": [
    "###For the continous variables we imput using the mean or median  \n",
    "###DSC3108 - impute with median cause the data is right skewed(mean < median ) (<eft)~quick reminder\n",
    "data[\"DSC3108\"] = data[\"DSC3108\"].fillna(data[\"DSC3108\"].median())\n",
    "###DSC3114 -impute with mean cause its symmetrical (mean and median are equal)\n",
    "data[\"DSC3114\"] = data[\"DSC3114\"].fillna(data[\"DSC3114\"].median())"
   ]
  },
  {
   "cell_type": "code",
   "execution_count": 10,
   "id": "1734dd51",
   "metadata": {},
   "outputs": [],
   "source": [
    "###For the categorical variables we use mode \n",
    "data[\"course\"] = data[\"course\"].fillna(data[\"course\"].mode()[0]) #mode()[0] gives the most frequent value as a scalar"
   ]
  },
  {
   "cell_type": "code",
   "execution_count": 11,
   "id": "4a02eed2",
   "metadata": {},
   "outputs": [
    {
     "data": {
      "text/plain": [
       "Access_no    0\n",
       "gender       0\n",
       "age          0\n",
       "course       0\n",
       "DSC3108      0\n",
       "DSC3114      0\n",
       "MTH3108      0\n",
       "SYE3104      0\n",
       "dtype: int64"
      ]
     },
     "execution_count": 11,
     "metadata": {},
     "output_type": "execute_result"
    }
   ],
   "source": [
    "##check to see if the missing values are still there \n",
    "data.isna().sum()"
   ]
  },
  {
   "cell_type": "markdown",
   "id": "9133e39f",
   "metadata": {},
   "source": [
    "#### Method two of handling missing values using interpolation "
   ]
  },
  {
   "cell_type": "markdown",
   "id": "d7a9dfd5",
   "metadata": {},
   "source": [
    "- Using the linear interpolation onthe numerical variables "
   ]
  },
  {
   "cell_type": "code",
   "execution_count": 35,
   "id": "e34ca2d0",
   "metadata": {},
   "outputs": [],
   "source": [
    "data[\"DSC3108\"] = data[\"DSC3108\"].interpolate(method='linear')\n",
    "data[\"DSC3114\"] = data[\"DSC3114\"].interpolate(method='linear')"
   ]
  },
  {
   "cell_type": "code",
   "execution_count": 34,
   "id": "29dec996",
   "metadata": {},
   "outputs": [
    {
     "data": {
      "text/plain": [
       "Access_no           0\n",
       "gender              0\n",
       "age                 0\n",
       "course              1\n",
       "DSC3108             0\n",
       "DSC3114             0\n",
       "MTH3108             0\n",
       "SYE3104             0\n",
       "DSC3108_interpol    0\n",
       "DSC3114_interpol    0\n",
       "dtype: int64"
      ]
     },
     "execution_count": 34,
     "metadata": {},
     "output_type": "execute_result"
    }
   ],
   "source": [
    "data.isnull().sum()"
   ]
  },
  {
   "cell_type": "markdown",
   "id": "9426b808",
   "metadata": {},
   "source": [
    "#### Method three of handling missing values using imputation "
   ]
  },
  {
   "cell_type": "code",
   "execution_count": 37,
   "id": "cabef412",
   "metadata": {},
   "outputs": [],
   "source": [
    "#using the scikit learn package to impute\n",
    "from sklearn.impute import SimpleImputer\n"
   ]
  },
  {
   "cell_type": "code",
   "execution_count": 40,
   "id": "cab0fa64",
   "metadata": {},
   "outputs": [],
   "source": [
    "###For the continous variables we imput using the mean or median  \n",
    "###DSC3108 - impute with median cause the data is right skewed(mean < median ) (<eft)~quick reminder\n",
    "num_imputer = SimpleImputer(strategy='median') \n",
    "data[['DSC3108']] = num_imputer.fit_transform(data[['DSC3108']])\n"
   ]
  },
  {
   "cell_type": "code",
   "execution_count": 41,
   "id": "c7863176",
   "metadata": {},
   "outputs": [],
   "source": [
    "###DSC3114 -impute with mean cause its symmetrical (mean and median are equal)\n",
    "num_imputer_2 = SimpleImputer(strategy='mean') \n",
    "data[['DSC3114']] = num_imputer_2.fit_transform(data[['DSC3114']])"
   ]
  },
  {
   "cell_type": "code",
   "execution_count": 43,
   "id": "59540d92",
   "metadata": {},
   "outputs": [],
   "source": [
    "###For the categorical variables we use mode \n",
    "cat_imputer = SimpleImputer(strategy='most_frequent')\n",
    "data[['course']] = cat_imputer.fit_transform(data[['course']])"
   ]
  },
  {
   "cell_type": "code",
   "execution_count": 44,
   "id": "af51948d",
   "metadata": {},
   "outputs": [
    {
     "data": {
      "text/plain": [
       "Access_no           0\n",
       "gender              0\n",
       "age                 0\n",
       "course              0\n",
       "DSC3108             0\n",
       "DSC3114             0\n",
       "MTH3108             0\n",
       "SYE3104             0\n",
       "DSC3108_interpol    0\n",
       "DSC3114_interpol    0\n",
       "dtype: int64"
      ]
     },
     "execution_count": 44,
     "metadata": {},
     "output_type": "execute_result"
    }
   ],
   "source": [
    "data.isna().sum()"
   ]
  }
 ],
 "metadata": {
  "kernelspec": {
   "display_name": "Python 3",
   "language": "python",
   "name": "python3"
  },
  "language_info": {
   "codemirror_mode": {
    "name": "ipython",
    "version": 3
   },
   "file_extension": ".py",
   "mimetype": "text/x-python",
   "name": "python",
   "nbconvert_exporter": "python",
   "pygments_lexer": "ipython3",
   "version": "3.10.5"
  }
 },
 "nbformat": 4,
 "nbformat_minor": 5
}
