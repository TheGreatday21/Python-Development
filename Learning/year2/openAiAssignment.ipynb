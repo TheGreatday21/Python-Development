{
 "cells": [
  {
   "cell_type": "markdown",
   "id": "5fd3010f",
   "metadata": {},
   "source": [
    "## KAWOOMA ELIJAH \n",
    "## B29158\n",
    "## M2B38/023\n",
    "## OPEN AI ASSIGNMENT \n",
    "## github: https://github.com/TheGreatday21/Python-Development/blob/main/Learning/year2/openAiAssignment.ipynb\n",
    "\n",
    "\n"
   ]
  },
  {
   "cell_type": "markdown",
   "id": "a4c856bc",
   "metadata": {},
   "source": [
    "1. At what point in the code is the user’s input appended to the conversation history?"
   ]
  },
  {
   "cell_type": "code",
   "execution_count": null,
   "id": "758bfba9",
   "metadata": {},
   "outputs": [],
   "source": [
    "#the users message is appended to the history in the while loop\n",
    "''' \n",
    "history.append(f\"User: {user_msg}\")\n",
    "'''"
   ]
  },
  {
   "cell_type": "markdown",
   "id": "4950f53c",
   "metadata": {},
   "source": [
    "2. What method is used to send the conversation prompt to GPT-5?,"
   ]
  },
  {
   "cell_type": "code",
   "execution_count": null,
   "id": "6e7aee22",
   "metadata": {},
   "outputs": [],
   "source": [
    "# we use the client.responses.create() method \n",
    "'''\n",
    "response = client.responses.create(\n",
    "            model=\"gpt-5\",\n",
    "            input=prompt,\n",
    "            reasoning={\"effort\": \"medium\"},  # optional\n",
    "            text={\"verbosity\": \"medium\"}     # optional\n",
    "        )\n",
    "'''"
   ]
  },
  {
   "cell_type": "markdown",
   "id": "44b1c9c5",
   "metadata": {},
   "source": [
    "3. How does the code handle empty user inputs?"
   ]
  },
  {
   "cell_type": "code",
   "execution_count": null,
   "id": "120ce392",
   "metadata": {},
   "outputs": [],
   "source": [
    "#the code uses a continue statement in the if statement to handle this \n",
    "'''\n",
    " user_msg = input(\"User: \").strip()\n",
    "    if not user_msg:\n",
    "        continue\n",
    "    if user_msg.lower() == \"bye\":\n",
    "        print(\"GPT-5: Goodbye 👋\")\n",
    "        break\n",
    "        \n",
    "'''"
   ]
  },
  {
   "cell_type": "markdown",
   "id": "e540b625",
   "metadata": {},
   "source": [
    "4. Modify the code so that the assistant’s replies are limited to at least 15 words and at most 50 words."
   ]
  },
  {
   "cell_type": "code",
   "execution_count": null,
   "id": "697ee03a",
   "metadata": {},
   "outputs": [],
   "source": [
    "'''\n",
    "reply = response.output_text.strip()\n",
    "numOfWords = range(15,51)\n",
    "words = len(reply.split())\n",
    "\n",
    "if words in numOfWords:\n",
    "    print(f\"GPT-5: {reply}\\n\")\n",
    "else:\n",
    "    print(\"(Warning: Words are not in given range.)\")\n",
    "'''"
   ]
  },
  {
   "cell_type": "markdown",
   "id": "34949193",
   "metadata": {},
   "source": [
    "5. Update the script to allow the user to save the entire conversation history into a .txt file once they type save."
   ]
  },
  {
   "cell_type": "code",
   "execution_count": null,
   "id": "7e00d99c",
   "metadata": {},
   "outputs": [],
   "source": [
    "'''\n",
    "elif user_msg.lower() == \"save\":\n",
    "        try:#coding defensively here to minimise output on the screen \n",
    "            fileName = \"chatHistory.txt\"\n",
    "            with open(fileName, \"w\", encoding=\"utf-8\") as f:\n",
    "                f.write(\"\\n\".join(history))\n",
    "            print(f\"(Conversation saved successfully as '{fileName}'.)\\n\")\n",
    "        except Exception:\n",
    "            print(\"(Error saving conversation:)\", Exception)\n",
    "        continue\n",
    "'''"
   ]
  },
  {
   "cell_type": "markdown",
   "id": "4cd43452",
   "metadata": {},
   "source": [
    "6. Add error handling so that if the API call fails, the program retries three times before quitting.,"
   ]
  },
  {
   "cell_type": "code",
   "execution_count": null,
   "id": "9d2d563e",
   "metadata": {},
   "outputs": [],
   "source": [
    "'''\n",
    "maxCalls =  3 #this variable is the total number of time the api can be called \n",
    "    for call in range(1, maxCalls + 1):\n",
    "        try:#using a try except block to cath errors when sending to the api\n",
    "            # Send the prompt to GPT-5\n",
    "            response = client.responses.create(\n",
    "                model=\"gpt-5\",\n",
    "                input=prompt,\n",
    "                reasoning={\"effort\": \"medium\"},  # optional\n",
    "                text={\"verbosity\": \"medium\"}     # optional\n",
    "            )\n",
    "\n",
    "\n",
    "\n",
    "\n",
    "except Exception as e:\n",
    "            print(f\"(Attempt {call}/{maxCalls} failed: {e})\")\n",
    "            if call < maxCalls:\n",
    "                time.sleep(2)  # small delay before retry\n",
    "                print(\"Retrying...\\n\")\n",
    "            else:\n",
    "                print(\"API request failed after 3 attempts. Exiting program.\")\n",
    "                exit(1)\n",
    "\n",
    "'''"
   ]
  },
  {
   "cell_type": "markdown",
   "id": "9f9a1b40",
   "metadata": {},
   "source": [
    "7. Add functionality for the assistant to summarise the conversation so far if the user types summary."
   ]
  },
  {
   "cell_type": "code",
   "execution_count": null,
   "id": "9fef162c",
   "metadata": {},
   "outputs": [],
   "source": [
    "'''\n",
    "elif user_msg.lower() == \"summary\":\n",
    "        try:\n",
    "            # I will create a new prompt to chat gpt to give me a summary of the conversation so far\n",
    "            summaryPrompt = \"\\n\".join(history) + \"\\n\\nProvide a brief summary of the conversation so far.\"\n",
    "            ##getting the response from gpt-5\n",
    "            summaryResponse = client.responses.create(\n",
    "                model=\"gpt-5\",\n",
    "                input=summaryPrompt,\n",
    "                reasoning={\"effort\": \"low\"},\n",
    "                text={\"verbosity\": \"low\"}\n",
    "            )\n",
    "\n",
    "            summary = summaryResponse.output_text.strip()\n",
    "            print(f\"GPT-5 Summary: {summary}\\n\")\n",
    "        except Exception as e:\n",
    "            print(f\"(Error generating summary: {e})\")\n",
    "        continue\n",
    "    \n",
    "'''"
   ]
  },
  {
   "cell_type": "markdown",
   "id": "96ff4d97",
   "metadata": {},
   "source": [
    "--- FINAL NOTEBOOK"
   ]
  },
  {
   "cell_type": "code",
   "execution_count": null,
   "id": "7f2f8695",
   "metadata": {},
   "outputs": [],
   "source": [
    "### GIT DIDNOT ALLOW ME PUSH MY PRIVATE API KEY SO I HAVE REMOVED IT FROM THE CODE ###"
   ]
  },
  {
   "cell_type": "code",
   "execution_count": null,
   "id": "b3a037fc",
   "metadata": {},
   "outputs": [],
   "source": [
    "from openai import OpenAI\n",
    "import os #for sys functions\n",
    "import time #we will use this module with the sleep method so that there is some kind of delay incase a call fails \n",
    "\n",
    "# Create an OpenAI client \n",
    "#created a personal api key and used it here \n",
    "client = OpenAI(api_key=\"API KEY HERE\")\n",
    "\n",
    "#creating a system prompt in string format \n",
    "system_prompt = \"You are an intelligent assistant. Make sure you stay within 10 words.\"\n",
    "\n",
    "#creating a list called history to hold the system prompt and later the user input \n",
    "history = [f\"System: {system_prompt}\"]\n",
    "\n",
    "# Before asking the user for input , asking them how they want to proceed \n",
    "print(\"Chose what you want to do\\n\")\n",
    "print(\"message OR bye OR save OR summary\")\n",
    "\n",
    "while True:#creating a loop \n",
    "    user_msg = input(\"User: \").strip()#creating a new variable to hold the users input \n",
    "    if not user_msg:\n",
    "        continue\n",
    "    elif user_msg.lower() == \"save\":\n",
    "        try:#coding defensively here to minimise output on the screen \n",
    "            fileName = \"chatHistory.txt\"\n",
    "            with open(fileName, \"w\", encoding=\"utf-8\") as f:\n",
    "                f.write(\"\\n\".join(history))\n",
    "            print(f\"(Conversation saved successfully as '{fileName}'.)\\n\")\n",
    "        except Exception:\n",
    "            print(\"(Error saving conversation:)\", Exception)\n",
    "        continue\n",
    "    elif user_msg.lower() == \"bye\":\n",
    "        print(\"GPT-5: Goodbye 👋\")\n",
    "        break\n",
    "    elif user_msg.lower() == \"summary\":\n",
    "        try:\n",
    "            # I will create a new prompt to chat gpt to give me a summary of the conversation so far\n",
    "            summaryPrompt = \"\\n\".join(history) + \"\\n\\nProvide a brief summary of the conversation so far.\"\n",
    "            ##getting the response from gpt-5\n",
    "            summaryResponse = client.responses.create(\n",
    "                model=\"gpt-5\",\n",
    "                input=summaryPrompt,\n",
    "                reasoning={\"effort\": \"low\"},\n",
    "                text={\"verbosity\": \"low\"}\n",
    "            )\n",
    "\n",
    "            summary = summaryResponse.output_text.strip()\n",
    "            print(f\"GPT-5 Summary: {summary}\\n\")\n",
    "        except Exception as e:\n",
    "            print(f\"(Error generating summary: {e})\")\n",
    "        continue\n",
    "    \n",
    "    # Save the user input in the list \n",
    "    history.append(f\"User: {user_msg}\")\n",
    "\n",
    "    # Join the transcript into one big text block\n",
    "    prompt = \"\\n\".join(history)\n",
    "    maxCalls =  3 #this variable is the total number of time the api can be called \n",
    "    for call in range(1, maxCalls + 1):\n",
    "        try:#using a try except block to cath errors when sending to the api\n",
    "            # Send the prompt to GPT-5\n",
    "            response = client.responses.create(\n",
    "                model=\"gpt-5\",\n",
    "                input=prompt,\n",
    "                reasoning={\"effort\": \"medium\"},  # optional\n",
    "                text={\"verbosity\": \"medium\"}     # optional\n",
    "            )\n",
    "\n",
    "            # Get the assistant’s text\n",
    "            reply = response.output_text.strip()\n",
    "            numOfWords = range(15,51)#creating a static range i expect words to be in \n",
    "            words = len(reply.split())#creating a variable to count the number of words gpt will give us \n",
    "\n",
    "            if words in numOfWords:\n",
    "                print(f\"GPT-5: {reply}\\n\")\n",
    "            else:\n",
    "                print(\"(Warning: Words are not in given range.)\")\n",
    "\n",
    "            # Save assistant reply for context in the next turn\n",
    "            history.append(f\"Assistant: {reply}\")\n",
    "\n",
    "            break#incase of a success we break out of the for loop \n",
    "\n",
    "        except Exception as e:\n",
    "            print(f\"(Attempt {call}/{maxCalls} failed: {e})\")\n",
    "            if call < maxCalls:\n",
    "                time.sleep(2)  # small delay before retry\n",
    "                print(\"Retrying...\\n\")\n",
    "            else:\n",
    "                print(\"API request failed after 3 attempts. Exiting program.\")\n",
    "                exit(1)"
   ]
  }
 ],
 "metadata": {
  "kernelspec": {
   "display_name": "Python 3",
   "language": "python",
   "name": "python3"
  },
  "language_info": {
   "name": "python",
   "version": "3.12.1"
  }
 },
 "nbformat": 4,
 "nbformat_minor": 5
}
