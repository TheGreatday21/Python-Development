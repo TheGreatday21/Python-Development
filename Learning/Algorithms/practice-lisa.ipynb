{
 "cells": [
  {
   "cell_type": "markdown",
   "metadata": {},
   "source": [
    "#### Question 1"
   ]
  },
  {
   "cell_type": "code",
   "execution_count": 14,
   "metadata": {},
   "outputs": [
    {
     "name": "stdout",
     "output_type": "stream",
     "text": [
      "First fruit is mango\n",
      "Last  fruit is strawberry\n",
      "['mango', 'pawpaw', 'kiwi', 'strawberry', 'bananas', 'apples']\n",
      "['mango', 'kiwi', 'strawberry', 'bananas', 'apples']\n",
      "['apples', 'bananas', 'strawberry', 'kiwi', 'mango']\n"
     ]
    }
   ],
   "source": [
    "#1 #LISTS\n",
    "fruits = [\"mango\",\"pawpaw\",\"kiwi\",\"strawberry\"]\n",
    "#created a variable called fruits that contains a list of fruits\n",
    "\n",
    "#2\n",
    "# we use indexing to print the first and last item of the list\n",
    "print(f\"First fruit is {fruits[0]}\")\n",
    "print(f\"Last  fruit is {fruits[3]}\")\n",
    "\n",
    "# we use the append function to push objects to the end of the list\n",
    "fruits.append(\"bananas\")\n",
    "fruits.append(\"apples\")\n",
    "print(fruits)\n",
    "\n",
    "#we use the pop function to remove an item at a given index\n",
    "fruits.pop(1)\n",
    "print(fruits)\n",
    "\n",
    "#we use the inbuilt reverse function to reverse the list\n",
    "fruits.reverse()\n",
    "print(fruits)\n",
    "#2"
   ]
  },
  {
   "cell_type": "markdown",
   "metadata": {},
   "source": [
    "#### Question 2"
   ]
  },
  {
   "cell_type": "code",
   "execution_count": 28,
   "metadata": {},
   "outputs": [
    {
     "name": "stdout",
     "output_type": "stream",
     "text": [
      "['jolof']\n"
     ]
    },
    {
     "ename": "NameError",
     "evalue": "name 'listname' is not defined",
     "output_type": "error",
     "traceback": [
      "\u001b[0;31m---------------------------------------------------------------------------\u001b[0m",
      "\u001b[0;31mNameError\u001b[0m                                 Traceback (most recent call last)",
      "Cell \u001b[0;32mIn[28], line 12\u001b[0m\n\u001b[1;32m     10\u001b[0m     listname\u001b[38;5;241m.\u001b[39mpop()\n\u001b[1;32m     11\u001b[0m     \u001b[38;5;28mprint\u001b[39m(listname[\u001b[38;5;241m0\u001b[39m])\n\u001b[0;32m---> 12\u001b[0m remove_items(\u001b[43mlistname\u001b[49m)\n\u001b[1;32m     14\u001b[0m items \u001b[38;5;241m=\u001b[39m [\u001b[38;5;124m\"\u001b[39m\u001b[38;5;124mweed\u001b[39m\u001b[38;5;124m\"\u001b[39m]\n\u001b[1;32m     15\u001b[0m \u001b[38;5;28;01mdef\u001b[39;00m \u001b[38;5;21mremove_add\u001b[39m(\u001b[38;5;28mlist\u001b[39m,item):\n",
      "\u001b[0;31mNameError\u001b[0m: name 'listname' is not defined"
     ]
    }
   ],
   "source": [
    "\n",
    "items = []\n",
    "#function to append an item to the end of our list\n",
    "def add_items (listname , item ):\n",
    "    listname.append(item)\n",
    "    print(listname)\n",
    "add_items(items, \"jolof\")\n",
    "\n",
    "#function to remove an item from the list\n",
    "def remove_items (listname):\n",
    "    listname.pop()\n",
    "    print(listname[0])\n",
    "remove_items(listname)\n",
    "\n",
    "items = [\"weed\"]\n",
    "def remove_add(list,item):\n",
    "    list.append(item)\n",
    "    print(list)\n",
    "    list.pop(0)\n",
    "    print(list)\n",
    "    if len(list) == 0:\n",
    "        print(\"This list is empty\")\n",
    "        return None\n",
    "    else:\n",
    "        print(f\"the list is not empty and contains {list}\")\n",
    "remove_add(items, \"eggs\")\n"
   ]
  },
  {
   "cell_type": "markdown",
   "metadata": {},
   "source": []
  },
  {
   "cell_type": "code",
   "execution_count": 36,
   "metadata": {},
   "outputs": [
    {
     "name": "stdout",
     "output_type": "stream",
     "text": [
      "{'Fiction': ['James', 'Brown'], 'Non_Fiction': ['life', 'James_blue']}\n",
      "dict_keys(['Fiction', 'Non_Fiction'])\n",
      "dict_values([['James', 'Brown'], ['life', 'James_blue']])\n"
     ]
    }
   ],
   "source": [
    "library ={\n",
    "    \"Fiction\":[\"James\", \"Brown\"],\n",
    "    \"Non_Fiction\":[\"life\",\"James_blue\"]\n",
    "}\n",
    "\n",
    "print(library)\n",
    "print(library.keys())\n",
    "print(library.values())"
   ]
  },
  {
   "cell_type": "code",
   "execution_count": 39,
   "metadata": {},
   "outputs": [
    {
     "name": "stdout",
     "output_type": "stream",
     "text": [
      "dict_values([['joren', 'morreen', 'james']])\n"
     ]
    }
   ],
   "source": [
    "#creating a nested dictionary\n",
    "Football ={\n",
    "    \"laliga\" : {\n",
    "        \"madrid\" :{\n",
    "            \"players\":[\"joren\",\"morreen\",\"james\"]\n",
    "        }\n",
    "    }\n",
    "}\n",
    "\n",
    "print(Football[\"laliga\"][\"madrid\"].values())"
   ]
  }
 ],
 "metadata": {
  "kernelspec": {
   "display_name": "Python 3",
   "language": "python",
   "name": "python3"
  },
  "language_info": {
   "codemirror_mode": {
    "name": "ipython",
    "version": 3
   },
   "file_extension": ".py",
   "mimetype": "text/x-python",
   "name": "python",
   "nbconvert_exporter": "python",
   "pygments_lexer": "ipython3",
   "version": "3.12.4"
  }
 },
 "nbformat": 4,
 "nbformat_minor": 2
}
