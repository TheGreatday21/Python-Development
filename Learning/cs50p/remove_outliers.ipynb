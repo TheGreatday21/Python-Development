{
 "cells": [
  {
   "cell_type": "markdown",
   "id": "9e36d7a2",
   "metadata": {},
   "source": [
    "### KAWOOMA ELIJAH\n",
    "### B29158 M24B38/023\n"
   ]
  },
  {
   "cell_type": "code",
   "execution_count": 14,
   "id": "34eec1c5",
   "metadata": {},
   "outputs": [],
   "source": [
    "#first importing pandas library to create a dataframe using our data set \n",
    "import pandas as pd"
   ]
  },
  {
   "cell_type": "code",
   "execution_count": 4,
   "id": "b29f1e14",
   "metadata": {},
   "outputs": [],
   "source": [
    "# we import the data set into our environment using pandas \n",
    "data1 = pd.read_excel(\"D:/Elijah/Year_2/Data_and_Big_Data_in_R/data_sets/Student_performance.xlsx\")"
   ]
  },
  {
   "cell_type": "code",
   "execution_count": 16,
   "id": "46b0e207",
   "metadata": {},
   "outputs": [
    {
     "data": {
      "text/html": [
       "<div>\n",
       "<style scoped>\n",
       "    .dataframe tbody tr th:only-of-type {\n",
       "        vertical-align: middle;\n",
       "    }\n",
       "\n",
       "    .dataframe tbody tr th {\n",
       "        vertical-align: top;\n",
       "    }\n",
       "\n",
       "    .dataframe thead th {\n",
       "        text-align: right;\n",
       "    }\n",
       "</style>\n",
       "<table border=\"1\" class=\"dataframe\">\n",
       "  <thead>\n",
       "    <tr style=\"text-align: right;\">\n",
       "      <th></th>\n",
       "      <th>Access_no</th>\n",
       "      <th>gender</th>\n",
       "      <th>age</th>\n",
       "      <th>course</th>\n",
       "      <th>DSC3108</th>\n",
       "      <th>DSC3114</th>\n",
       "      <th>MTH3108</th>\n",
       "      <th>SYE3104</th>\n",
       "    </tr>\n",
       "  </thead>\n",
       "  <tbody>\n",
       "    <tr>\n",
       "      <th>count</th>\n",
       "      <td>11.000000</td>\n",
       "      <td>11</td>\n",
       "      <td>11.000000</td>\n",
       "      <td>10</td>\n",
       "      <td>10.000000</td>\n",
       "      <td>10.000000</td>\n",
       "      <td>11.000000</td>\n",
       "      <td>11.000000</td>\n",
       "    </tr>\n",
       "    <tr>\n",
       "      <th>unique</th>\n",
       "      <td>NaN</td>\n",
       "      <td>2</td>\n",
       "      <td>NaN</td>\n",
       "      <td>3</td>\n",
       "      <td>NaN</td>\n",
       "      <td>NaN</td>\n",
       "      <td>NaN</td>\n",
       "      <td>NaN</td>\n",
       "    </tr>\n",
       "    <tr>\n",
       "      <th>top</th>\n",
       "      <td>NaN</td>\n",
       "      <td>female</td>\n",
       "      <td>NaN</td>\n",
       "      <td>Computer_Science</td>\n",
       "      <td>NaN</td>\n",
       "      <td>NaN</td>\n",
       "      <td>NaN</td>\n",
       "      <td>NaN</td>\n",
       "    </tr>\n",
       "    <tr>\n",
       "      <th>freq</th>\n",
       "      <td>NaN</td>\n",
       "      <td>6</td>\n",
       "      <td>NaN</td>\n",
       "      <td>4</td>\n",
       "      <td>NaN</td>\n",
       "      <td>NaN</td>\n",
       "      <td>NaN</td>\n",
       "      <td>NaN</td>\n",
       "    </tr>\n",
       "    <tr>\n",
       "      <th>mean</th>\n",
       "      <td>496.545455</td>\n",
       "      <td>NaN</td>\n",
       "      <td>21.454545</td>\n",
       "      <td>NaN</td>\n",
       "      <td>63.200000</td>\n",
       "      <td>76.300000</td>\n",
       "      <td>70.090909</td>\n",
       "      <td>62.818182</td>\n",
       "    </tr>\n",
       "    <tr>\n",
       "      <th>std</th>\n",
       "      <td>278.903339</td>\n",
       "      <td>NaN</td>\n",
       "      <td>0.522233</td>\n",
       "      <td>NaN</td>\n",
       "      <td>24.220285</td>\n",
       "      <td>16.418486</td>\n",
       "      <td>18.030278</td>\n",
       "      <td>25.956957</td>\n",
       "    </tr>\n",
       "    <tr>\n",
       "      <th>min</th>\n",
       "      <td>123.000000</td>\n",
       "      <td>NaN</td>\n",
       "      <td>21.000000</td>\n",
       "      <td>NaN</td>\n",
       "      <td>25.000000</td>\n",
       "      <td>40.000000</td>\n",
       "      <td>38.000000</td>\n",
       "      <td>19.000000</td>\n",
       "    </tr>\n",
       "    <tr>\n",
       "      <th>25%</th>\n",
       "      <td>317.500000</td>\n",
       "      <td>NaN</td>\n",
       "      <td>21.000000</td>\n",
       "      <td>NaN</td>\n",
       "      <td>47.250000</td>\n",
       "      <td>70.000000</td>\n",
       "      <td>64.500000</td>\n",
       "      <td>42.000000</td>\n",
       "    </tr>\n",
       "    <tr>\n",
       "      <th>50%</th>\n",
       "      <td>415.000000</td>\n",
       "      <td>NaN</td>\n",
       "      <td>21.000000</td>\n",
       "      <td>NaN</td>\n",
       "      <td>67.500000</td>\n",
       "      <td>76.500000</td>\n",
       "      <td>78.000000</td>\n",
       "      <td>65.000000</td>\n",
       "    </tr>\n",
       "    <tr>\n",
       "      <th>75%</th>\n",
       "      <td>723.500000</td>\n",
       "      <td>NaN</td>\n",
       "      <td>22.000000</td>\n",
       "      <td>NaN</td>\n",
       "      <td>85.000000</td>\n",
       "      <td>86.000000</td>\n",
       "      <td>79.000000</td>\n",
       "      <td>86.500000</td>\n",
       "    </tr>\n",
       "    <tr>\n",
       "      <th>max</th>\n",
       "      <td>892.000000</td>\n",
       "      <td>NaN</td>\n",
       "      <td>22.000000</td>\n",
       "      <td>NaN</td>\n",
       "      <td>91.000000</td>\n",
       "      <td>98.000000</td>\n",
       "      <td>92.000000</td>\n",
       "      <td>93.000000</td>\n",
       "    </tr>\n",
       "  </tbody>\n",
       "</table>\n",
       "</div>"
      ],
      "text/plain": [
       "         Access_no  gender        age            course    DSC3108    DSC3114  \\\n",
       "count    11.000000      11  11.000000                10  10.000000  10.000000   \n",
       "unique         NaN       2        NaN                 3        NaN        NaN   \n",
       "top            NaN  female        NaN  Computer_Science        NaN        NaN   \n",
       "freq           NaN       6        NaN                 4        NaN        NaN   \n",
       "mean    496.545455     NaN  21.454545               NaN  63.200000  76.300000   \n",
       "std     278.903339     NaN   0.522233               NaN  24.220285  16.418486   \n",
       "min     123.000000     NaN  21.000000               NaN  25.000000  40.000000   \n",
       "25%     317.500000     NaN  21.000000               NaN  47.250000  70.000000   \n",
       "50%     415.000000     NaN  21.000000               NaN  67.500000  76.500000   \n",
       "75%     723.500000     NaN  22.000000               NaN  85.000000  86.000000   \n",
       "max     892.000000     NaN  22.000000               NaN  91.000000  98.000000   \n",
       "\n",
       "          MTH3108    SYE3104  \n",
       "count   11.000000  11.000000  \n",
       "unique        NaN        NaN  \n",
       "top           NaN        NaN  \n",
       "freq          NaN        NaN  \n",
       "mean    70.090909  62.818182  \n",
       "std     18.030278  25.956957  \n",
       "min     38.000000  19.000000  \n",
       "25%     64.500000  42.000000  \n",
       "50%     78.000000  65.000000  \n",
       "75%     79.000000  86.500000  \n",
       "max     92.000000  93.000000  "
      ]
     },
     "execution_count": 16,
     "metadata": {},
     "output_type": "execute_result"
    }
   ],
   "source": [
    "#seeing the data\n",
    "data1.describe(include=\"all\")#the additional syntax in brackets includes all the data in the data set that the usual describe method would leave out"
   ]
  },
  {
   "cell_type": "code",
   "execution_count": 8,
   "id": "06b697d1",
   "metadata": {},
   "outputs": [
    {
     "data": {
      "text/plain": [
       "(11, 8)"
      ]
     },
     "execution_count": 8,
     "metadata": {},
     "output_type": "execute_result"
    }
   ],
   "source": [
    "#seeing all the observations and variables in the data set \n",
    "data1.shape\n",
    "#this data set has (11, 8) 11 observations and 8 variables "
   ]
  },
  {
   "cell_type": "code",
   "execution_count": 7,
   "id": "98845381",
   "metadata": {},
   "outputs": [
    {
     "data": {
      "text/plain": [
       "Access_no      int64\n",
       "gender        object\n",
       "age            int64\n",
       "course        object\n",
       "DSC3108      float64\n",
       "DSC3114      float64\n",
       "MTH3108        int64\n",
       "SYE3104        int64\n",
       "dtype: object"
      ]
     },
     "execution_count": 7,
     "metadata": {},
     "output_type": "execute_result"
    }
   ],
   "source": [
    "#determing the data types of the variables in the data \n",
    "data1.dtypes"
   ]
  },
  {
   "cell_type": "code",
   "execution_count": 9,
   "id": "91de80d6",
   "metadata": {},
   "outputs": [
    {
     "data": {
      "text/plain": [
       "Access_no    0\n",
       "gender       0\n",
       "age          0\n",
       "course       1\n",
       "DSC3108      1\n",
       "DSC3114      1\n",
       "MTH3108      0\n",
       "SYE3104      0\n",
       "dtype: int64"
      ]
     },
     "execution_count": 9,
     "metadata": {},
     "output_type": "execute_result"
    }
   ],
   "source": [
    "#determing which variables have missing data using the isnull and sum function \n",
    "data1.isnull().sum()"
   ]
  },
  {
   "cell_type": "markdown",
   "id": "99a1bf92",
   "metadata": {},
   "source": [
    "- course,DSC3108 and DSC3114 each have one missing value"
   ]
  },
  {
   "cell_type": "code",
   "execution_count": 19,
   "id": "776a2a08",
   "metadata": {},
   "outputs": [],
   "source": [
    "#removing the missing data \n",
    "data1 = data1.dropna()"
   ]
  },
  {
   "cell_type": "code",
   "execution_count": 20,
   "id": "17ff9450",
   "metadata": {},
   "outputs": [
    {
     "data": {
      "text/plain": [
       "np.int64(0)"
      ]
     },
     "execution_count": 20,
     "metadata": {},
     "output_type": "execute_result"
    }
   ],
   "source": [
    "#checking for duplicated data \n",
    "data1.duplicated().sum() #there are no duplicated values in this data set "
   ]
  },
  {
   "cell_type": "code",
   "execution_count": 21,
   "id": "3e48759e",
   "metadata": {},
   "outputs": [
    {
     "data": {
      "text/html": [
       "<div>\n",
       "<style scoped>\n",
       "    .dataframe tbody tr th:only-of-type {\n",
       "        vertical-align: middle;\n",
       "    }\n",
       "\n",
       "    .dataframe tbody tr th {\n",
       "        vertical-align: top;\n",
       "    }\n",
       "\n",
       "    .dataframe thead th {\n",
       "        text-align: right;\n",
       "    }\n",
       "</style>\n",
       "<table border=\"1\" class=\"dataframe\">\n",
       "  <thead>\n",
       "    <tr style=\"text-align: right;\">\n",
       "      <th></th>\n",
       "      <th>Access_no</th>\n",
       "      <th>age</th>\n",
       "      <th>DSC3108</th>\n",
       "      <th>DSC3114</th>\n",
       "      <th>MTH3108</th>\n",
       "      <th>SYE3104</th>\n",
       "    </tr>\n",
       "  </thead>\n",
       "  <tbody>\n",
       "    <tr>\n",
       "      <th>0</th>\n",
       "      <td>123</td>\n",
       "      <td>21</td>\n",
       "      <td>89.0</td>\n",
       "      <td>88.0</td>\n",
       "      <td>72</td>\n",
       "      <td>65</td>\n",
       "    </tr>\n",
       "    <tr>\n",
       "      <th>1</th>\n",
       "      <td>415</td>\n",
       "      <td>22</td>\n",
       "      <td>91.0</td>\n",
       "      <td>98.0</td>\n",
       "      <td>88</td>\n",
       "      <td>89</td>\n",
       "    </tr>\n",
       "    <tr>\n",
       "      <th>2</th>\n",
       "      <td>321</td>\n",
       "      <td>21</td>\n",
       "      <td>73.0</td>\n",
       "      <td>70.0</td>\n",
       "      <td>38</td>\n",
       "      <td>41</td>\n",
       "    </tr>\n",
       "    <tr>\n",
       "      <th>3</th>\n",
       "      <td>124</td>\n",
       "      <td>21</td>\n",
       "      <td>30.0</td>\n",
       "      <td>40.0</td>\n",
       "      <td>60</td>\n",
       "      <td>31</td>\n",
       "    </tr>\n",
       "    <tr>\n",
       "      <th>4</th>\n",
       "      <td>314</td>\n",
       "      <td>22</td>\n",
       "      <td>70.0</td>\n",
       "      <td>75.0</td>\n",
       "      <td>78</td>\n",
       "      <td>60</td>\n",
       "    </tr>\n",
       "    <tr>\n",
       "      <th>5</th>\n",
       "      <td>891</td>\n",
       "      <td>21</td>\n",
       "      <td>25.0</td>\n",
       "      <td>70.0</td>\n",
       "      <td>69</td>\n",
       "      <td>19</td>\n",
       "    </tr>\n",
       "    <tr>\n",
       "      <th>6</th>\n",
       "      <td>729</td>\n",
       "      <td>22</td>\n",
       "      <td>65.0</td>\n",
       "      <td>80.0</td>\n",
       "      <td>38</td>\n",
       "      <td>43</td>\n",
       "    </tr>\n",
       "    <tr>\n",
       "      <th>7</th>\n",
       "      <td>892</td>\n",
       "      <td>21</td>\n",
       "      <td>90.0</td>\n",
       "      <td>95.0</td>\n",
       "      <td>92</td>\n",
       "      <td>93</td>\n",
       "    </tr>\n",
       "  </tbody>\n",
       "</table>\n",
       "</div>"
      ],
      "text/plain": [
       "   Access_no  age  DSC3108  DSC3114  MTH3108  SYE3104\n",
       "0        123   21     89.0     88.0       72       65\n",
       "1        415   22     91.0     98.0       88       89\n",
       "2        321   21     73.0     70.0       38       41\n",
       "3        124   21     30.0     40.0       60       31\n",
       "4        314   22     70.0     75.0       78       60\n",
       "5        891   21     25.0     70.0       69       19\n",
       "6        729   22     65.0     80.0       38       43\n",
       "7        892   21     90.0     95.0       92       93"
      ]
     },
     "execution_count": 21,
     "metadata": {},
     "output_type": "execute_result"
    }
   ],
   "source": [
    "#getting only the continuous data and removing the categorical data \n",
    "cont_data = data1.select_dtypes(exclude=\"object\")\n",
    "cont_data"
   ]
  },
  {
   "cell_type": "markdown",
   "id": "6d479379",
   "metadata": {},
   "source": [
    "- using IQR(interquartile range ) to determine which columns have outliers "
   ]
  },
  {
   "cell_type": "code",
   "execution_count": 22,
   "id": "86414c71",
   "metadata": {},
   "outputs": [
    {
     "data": {
      "text/plain": [
       "{'Access_no': [],\n",
       " 'age': [],\n",
       " 'DSC3108': [],\n",
       " 'DSC3114': [3],\n",
       " 'MTH3108': [],\n",
       " 'SYE3104': []}"
      ]
     },
     "execution_count": 22,
     "metadata": {},
     "output_type": "execute_result"
    }
   ],
   "source": [
    "# Detect outliers using the IQR method for each continuous variable\n",
    "outliers = {}\n",
    "for col in cont_data.columns:\n",
    "    Q1 = cont_data[col].quantile(0.25)\n",
    "    Q3 = cont_data[col].quantile(0.75)\n",
    "    IQR = Q3 - Q1\n",
    "    lower_bound = Q1 - 1.5 * IQR\n",
    "    upper_bound = Q3 + 1.5 * IQR\n",
    "    outlier_indices = cont_data[(cont_data[col] < lower_bound) | (cont_data[col] > upper_bound)].index\n",
    "    outliers[col] = outlier_indices.tolist()\n",
    "\n",
    "outliers  # This will show the indices of outliers for each column"
   ]
  },
  {
   "cell_type": "markdown",
   "id": "ceda2203",
   "metadata": {},
   "source": [
    "- visualise the data to see if there any outliers in the data set"
   ]
  },
  {
   "cell_type": "code",
   "execution_count": 18,
   "id": "0302516f",
   "metadata": {},
   "outputs": [
    {
     "name": "stderr",
     "output_type": "stream",
     "text": [
      "Matplotlib is building the font cache; this may take a moment.\n"
     ]
    },
    {
     "data": {
      "image/png": "[encoded data removed]",
      "text/plain": [
       "<Figure size 1000x1000 with 6 Axes>"
      ]
     },
     "metadata": {},
     "output_type": "display_data"
    }
   ],
   "source": [
    "import matplotlib.pyplot as plt\n",
    "\n",
    "\n",
    "plt.figure(figsize=(10,10))\n",
    "for i, col in enumerate(cont_data.columns):\n",
    "    plt.subplot(3, 3, i+1)\n",
    "    plt.boxplot(cont_data[col])\n",
    "    plt.title(col)\n",
    "    plt.ylabel(f\"frequency\")\n",
    "plt.tight_layout()\n",
    "plt.show()"
   ]
  },
  {
   "cell_type": "code",
   "execution_count": 24,
   "id": "defd94a0",
   "metadata": {},
   "outputs": [
    {
     "data": {
      "text/html": [
       "<div>\n",
       "<style scoped>\n",
       "    .dataframe tbody tr th:only-of-type {\n",
       "        vertical-align: middle;\n",
       "    }\n",
       "\n",
       "    .dataframe tbody tr th {\n",
       "        vertical-align: top;\n",
       "    }\n",
       "\n",
       "    .dataframe thead th {\n",
       "        text-align: right;\n",
       "    }\n",
       "</style>\n",
       "<table border=\"1\" class=\"dataframe\">\n",
       "  <thead>\n",
       "    <tr style=\"text-align: right;\">\n",
       "      <th></th>\n",
       "      <th>Access_no</th>\n",
       "      <th>age</th>\n",
       "      <th>DSC3108</th>\n",
       "      <th>DSC3114</th>\n",
       "      <th>MTH3108</th>\n",
       "      <th>SYE3104</th>\n",
       "    </tr>\n",
       "  </thead>\n",
       "  <tbody>\n",
       "    <tr>\n",
       "      <th>0</th>\n",
       "      <td>123</td>\n",
       "      <td>21</td>\n",
       "      <td>89.0</td>\n",
       "      <td>88.0</td>\n",
       "      <td>72</td>\n",
       "      <td>65</td>\n",
       "    </tr>\n",
       "    <tr>\n",
       "      <th>1</th>\n",
       "      <td>415</td>\n",
       "      <td>22</td>\n",
       "      <td>91.0</td>\n",
       "      <td>98.0</td>\n",
       "      <td>88</td>\n",
       "      <td>89</td>\n",
       "    </tr>\n",
       "    <tr>\n",
       "      <th>2</th>\n",
       "      <td>321</td>\n",
       "      <td>21</td>\n",
       "      <td>73.0</td>\n",
       "      <td>70.0</td>\n",
       "      <td>38</td>\n",
       "      <td>41</td>\n",
       "    </tr>\n",
       "    <tr>\n",
       "      <th>4</th>\n",
       "      <td>314</td>\n",
       "      <td>22</td>\n",
       "      <td>70.0</td>\n",
       "      <td>75.0</td>\n",
       "      <td>78</td>\n",
       "      <td>60</td>\n",
       "    </tr>\n",
       "    <tr>\n",
       "      <th>5</th>\n",
       "      <td>891</td>\n",
       "      <td>21</td>\n",
       "      <td>25.0</td>\n",
       "      <td>70.0</td>\n",
       "      <td>69</td>\n",
       "      <td>19</td>\n",
       "    </tr>\n",
       "  </tbody>\n",
       "</table>\n",
       "</div>"
      ],
      "text/plain": [
       "   Access_no  age  DSC3108  DSC3114  MTH3108  SYE3104\n",
       "0        123   21     89.0     88.0       72       65\n",
       "1        415   22     91.0     98.0       88       89\n",
       "2        321   21     73.0     70.0       38       41\n",
       "4        314   22     70.0     75.0       78       60\n",
       "5        891   21     25.0     70.0       69       19"
      ]
     },
     "execution_count": 24,
     "metadata": {},
     "output_type": "execute_result"
    }
   ],
   "source": [
    "# Function to remove outliers using the IQR method on the continous data frame \n",
    "def remove_outliers_iqr(df):\n",
    "    df_clean = df.copy()\n",
    "    for col in df_clean.columns:\n",
    "        Q1 = df_clean[col].quantile(0.25)  # 25th percentile\n",
    "        Q3 = df_clean[col].quantile(0.75)  # 75th percentile\n",
    "        IQR = Q3 - Q1                      # Interquartile range\n",
    "        lower_bound = Q1 - 1.5 * IQR       # Lower bound for outliers\n",
    "        upper_bound = Q3 + 1.5 * IQR       # Upper bound for outliers\n",
    "        # Keep only rows within the bounds for this column\n",
    "        df_clean = df_clean[(df_clean[col] >= lower_bound) & (df_clean[col] <= upper_bound)]\n",
    "    return df_clean\n",
    "\n",
    "\n",
    "no_out_data = remove_outliers_iqr(cont_data)\n",
    "no_out_data.head()"
   ]
  },
  {
   "cell_type": "code",
   "execution_count": 25,
   "id": "ca458a82",
   "metadata": {},
   "outputs": [
    {
     "data": {
      "image/png": "[encoded data removed]",
      "text/plain": [
       "<Figure size 1000x1000 with 6 Axes>"
      ]
     },
     "metadata": {},
     "output_type": "display_data"
    }
   ],
   "source": [
    "plt.figure(figsize=(10,10))\n",
    "for i, col in enumerate(no_out_data.columns):\n",
    "    plt.subplot(3, 3, i+1)\n",
    "    plt.boxplot(no_out_data[col])\n",
    "    plt.title(col)\n",
    "    plt.ylabel(f\"frequency\")\n",
    "plt.tight_layout()\n",
    "plt.show()"
   ]
  },
  {
   "cell_type": "markdown",
   "id": "b4cb6e4f",
   "metadata": {},
   "source": [
    "- The data nolonger has anyoutliers and missing information , so its ready to be used in testing and model training "
   ]
  },
  {
   "cell_type": "code",
   "execution_count": null,
   "id": "3fca56e3",
   "metadata": {},
   "outputs": [],
   "source": []
  }
 ],
 "metadata": {
  "kernelspec": {
   "display_name": "Python 3",
   "language": "python",
   "name": "python3"
  },
  "language_info": {
   "codemirror_mode": {
    "name": "ipython",
    "version": 3
   },
   "file_extension": ".py",
   "mimetype": "text/x-python",
   "name": "python",
   "nbconvert_exporter": "python",
   "pygments_lexer": "ipython3",
   "version": "3.13.5"
  }
 },
 "nbformat": 4,
 "nbformat_minor": 5
}
