{
 "cells": [
  {
   "cell_type": "markdown",
   "metadata": {},
   "source": [
    "- Big o notation refers to how code slows as data grows \n",
    "\n",
    "The performance of an algorithm as data increases "
   ]
  },
  {
   "cell_type": "markdown",
   "metadata": {},
   "source": [
    "1. o(1)  (constant time complexity)\n",
    " - States that it takes the same time for an algorithm to run despite the amount of data inserted \n",
    "\n",
    "2. o(log n) (logarithmic time complexity)\n",
    "- An example is a binary search and this algorithm takes lesser time as the data size also increases \n",
    "\n",
    "3. o(N) (Linear time complexity )\n",
    "- States that the amount of time to complete an algorithm increases with increases in the amount of data \n",
    "\n",
    "4. o(n log n) (quasilinear time complexity )\n",
    "- This involves the quick, merge and heap sort algorithms \n",
    "\n",
    "5. o(N^2) (quadratic time complexity )\n",
    "- Includes the insertion sort, bubble sort , selection sort algorithms .\n",
    "- This is extremely slow with larger data sets but extremely fast with smaller data sets\n",
    "\n",
    "6. o(n!) (factorial time complexity )\n",
    "- Slowest with large data sets\n",
    "\n",
    "\n"
   ]
  },
  {
   "cell_type": "markdown",
   "metadata": {},
   "source": []
  },
  {
   "cell_type": "markdown",
   "metadata": {},
   "source": []
  }
 ],
 "metadata": {
  "kernelspec": {
   "display_name": "Python 3",
   "language": "python",
   "name": "python3"
  },
  "language_info": {
   "codemirror_mode": {
    "name": "ipython",
    "version": 3
   },
   "file_extension": ".py",
   "mimetype": "text/x-python",
   "name": "python",
   "nbconvert_exporter": "python",
   "pygments_lexer": "ipython3",
   "version": "3.12.4"
  }
 },
 "nbformat": 4,
 "nbformat_minor": 2
}
