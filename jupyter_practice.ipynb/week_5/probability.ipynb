{
 "cells": [
  {
   "cell_type": "markdown",
   "metadata": {},
   "source": [
    "- Probability includes\n",
    "1. Marginal Prob - for a single variable \n",
    "2. Joint prob - for two events \n",
    "3. Conditional prob - for an event to occur if another occurs "
   ]
  },
  {
   "cell_type": "markdown",
   "metadata": {},
   "source": [
    "## Example \n",
    "Imagine 20 marbles in a bag\n",
    "- 8 are red and smooth \n",
    "- 5 are red and rough \n",
    "- 4 are blue and smooth \n",
    "- 3 are blue and rough \n",
    "\n",
    "Get the :-\n",
    "1. Prob of getting a red marble </br>\n",
    "    this is marginal prob </br>\n",
    "    P(R) = no of events / sample space\n",
    "    P(R) = (8+5)/20,\n",
    "    P(R) = 13/20,\n",
    "    P(R) = 0.65\n",
    "2. Prob of a smooth marble </br>\n",
    "    This is still marginal prob</br>\n",
    "    P(S) =no of events/sample space,\n",
    "    P(S) = (8+4)/20,\n",
    "    P(S) = 12/20,\n",
    "    P(S) = 0.6"
   ]
  },
  {
   "cell_type": "markdown",
   "metadata": {},
   "source": [
    "- In python "
   ]
  },
  {
   "cell_type": "markdown",
   "metadata": {},
   "source": [
    "### MARGINAL PROBABILITY"
   ]
  },
  {
   "cell_type": "code",
   "execution_count": 3,
   "metadata": {},
   "outputs": [
    {
     "name": "stdout",
     "output_type": "stream",
     "text": [
      "The probability of getting a red marble is 0.65\n",
      "The probability of getting a red marble is 0.6\n"
     ]
    }
   ],
   "source": [
    "# Get  MARGINAL PROBABILITY\n",
    "#1.Prob of getting a red marble\n",
    "sample_space = 20\n",
    "red_smooth = 8\n",
    "red_rough = 5\n",
    "blue_smooth = 4\n",
    "blue_rough = 3\n",
    "red = red_smooth + red_rough\n",
    "prob_red = red/sample_space\n",
    "print(f\"The probability of getting a red marble is {prob_red}\")\n",
    "\n",
    "\n",
    "#2. Prob of getting smooth marble \n",
    "sample_space = 20\n",
    "red_smooth = 8\n",
    "red_rough = 5\n",
    "blue_smooth = 4\n",
    "blue_rough = 3\n",
    "smooth = blue_smooth+red_smooth\n",
    "prob_smooth = smooth/sample_space\n",
    "print(f\"The probability of getting a red marble is {prob_smooth}\")"
   ]
  },
  {
   "cell_type": "markdown",
   "metadata": {},
   "source": [
    "### JOINT PROBABILITY"
   ]
  },
  {
   "cell_type": "code",
   "execution_count": 6,
   "metadata": {},
   "outputs": [
    {
     "name": "stdout",
     "output_type": "stream",
     "text": [
      "The probability of getting a red and smooth marble is 0.6\n"
     ]
    }
   ],
   "source": [
    "# Get  JOINT PROBABILITY\n",
    "#1.Prob of getting a marble that is both red and smooth \n",
    "#In this case the red an smooth variable was already stated for us  \n",
    "sample_space = 20\n",
    "red_smooth = 8\n",
    "red_rough = 5\n",
    "blue_smooth = 4\n",
    "blue_rough = 3\n",
    "\n",
    "prob_red_smooth = red_smooth/sample_space\n",
    "print(f\"The probability of getting a red and smooth marble is {prob_smooth}\")\n"
   ]
  },
  {
   "cell_type": "code",
   "execution_count": null,
   "metadata": {},
   "outputs": [
    {
     "data": {
      "text/plain": [
       "0.3333333333333333"
      ]
     },
     "execution_count": 8,
     "metadata": {},
     "output_type": "execute_result"
    }
   ],
   "source": [
    "sample_sp = {1,2,3,4,5,6}\n",
    "event_1 = {1,2,3}\n",
    "event_2 = {2,4,3}\n",
    "\n",
    "##Get the joint probability\n",
    "joint_event_prob = len([x for x in event_1 if x in event_2])/len(sample_sp)\n",
    "joint_event_prob"
   ]
  },
  {
   "cell_type": "markdown",
   "metadata": {},
   "source": [
    "##### Example 2\n"
   ]
  },
  {
   "cell_type": "code",
   "execution_count": 10,
   "metadata": {},
   "outputs": [],
   "source": [
    "import pandas as pd\n",
    "import numpy as np"
   ]
  },
  {
   "cell_type": "code",
   "execution_count": 11,
   "metadata": {},
   "outputs": [],
   "source": [
    "diamond_data = pd.read_csv(\"/Users/keksmacbookair/Desktop/COURSE_WORKS/Year_One/course_work_sem_2/Probability_and_statistics/data_Sets/diamonds.csv\")"
   ]
  },
  {
   "cell_type": "markdown",
   "metadata": {},
   "source": [
    "- Comparing clarity and carat"
   ]
  },
  {
   "cell_type": "code",
   "execution_count": 13,
   "metadata": {},
   "outputs": [
    {
     "data": {
      "text/html": [
       "<div>\n",
       "<style scoped>\n",
       "    .dataframe tbody tr th:only-of-type {\n",
       "        vertical-align: middle;\n",
       "    }\n",
       "\n",
       "    .dataframe tbody tr th {\n",
       "        vertical-align: top;\n",
       "    }\n",
       "\n",
       "    .dataframe thead th {\n",
       "        text-align: right;\n",
       "    }\n",
       "</style>\n",
       "<table border=\"1\" class=\"dataframe\">\n",
       "  <thead>\n",
       "    <tr style=\"text-align: right;\">\n",
       "      <th></th>\n",
       "      <th>clarity</th>\n",
       "      <th>carat</th>\n",
       "    </tr>\n",
       "  </thead>\n",
       "  <tbody>\n",
       "    <tr>\n",
       "      <th>0</th>\n",
       "      <td>SI2</td>\n",
       "      <td>0.23</td>\n",
       "    </tr>\n",
       "    <tr>\n",
       "      <th>1</th>\n",
       "      <td>SI1</td>\n",
       "      <td>0.21</td>\n",
       "    </tr>\n",
       "    <tr>\n",
       "      <th>2</th>\n",
       "      <td>VS1</td>\n",
       "      <td>0.23</td>\n",
       "    </tr>\n",
       "    <tr>\n",
       "      <th>3</th>\n",
       "      <td>VS2</td>\n",
       "      <td>0.29</td>\n",
       "    </tr>\n",
       "    <tr>\n",
       "      <th>4</th>\n",
       "      <td>SI2</td>\n",
       "      <td>0.31</td>\n",
       "    </tr>\n",
       "    <tr>\n",
       "      <th>...</th>\n",
       "      <td>...</td>\n",
       "      <td>...</td>\n",
       "    </tr>\n",
       "    <tr>\n",
       "      <th>53915</th>\n",
       "      <td>SI1</td>\n",
       "      <td>0.72</td>\n",
       "    </tr>\n",
       "    <tr>\n",
       "      <th>53916</th>\n",
       "      <td>SI1</td>\n",
       "      <td>0.72</td>\n",
       "    </tr>\n",
       "    <tr>\n",
       "      <th>53917</th>\n",
       "      <td>SI1</td>\n",
       "      <td>0.70</td>\n",
       "    </tr>\n",
       "    <tr>\n",
       "      <th>53918</th>\n",
       "      <td>SI2</td>\n",
       "      <td>0.86</td>\n",
       "    </tr>\n",
       "    <tr>\n",
       "      <th>53919</th>\n",
       "      <td>SI2</td>\n",
       "      <td>0.75</td>\n",
       "    </tr>\n",
       "  </tbody>\n",
       "</table>\n",
       "<p>53920 rows × 2 columns</p>\n",
       "</div>"
      ],
      "text/plain": [
       "      clarity  carat\n",
       "0         SI2   0.23\n",
       "1         SI1   0.21\n",
       "2         VS1   0.23\n",
       "3         VS2   0.29\n",
       "4         SI2   0.31\n",
       "...       ...    ...\n",
       "53915     SI1   0.72\n",
       "53916     SI1   0.72\n",
       "53917     SI1   0.70\n",
       "53918     SI2   0.86\n",
       "53919     SI2   0.75\n",
       "\n",
       "[53920 rows x 2 columns]"
      ]
     },
     "execution_count": 13,
     "metadata": {},
     "output_type": "execute_result"
    }
   ],
   "source": [
    "diamond_data[['clarity','carat']]"
   ]
  },
  {
   "cell_type": "code",
   "execution_count": null,
   "metadata": {},
   "outputs": [
    {
     "name": "stdout",
     "output_type": "stream",
     "text": [
      "0.2\n",
      "5.01\n",
      "Thee range for carat is 0.2 and  5.01\n"
     ]
    }
   ],
   "source": [
    "print(diamond_data['carat'].min())\n",
    "print(diamond_data['carat'].max())\n",
    "print(f'The range for carat is {diamond_data['carat'].min()} and  {diamond_data['carat'].max()}')"
   ]
  },
  {
   "cell_type": "code",
   "execution_count": 12,
   "metadata": {},
   "outputs": [
    {
     "data": {
      "text/plain": [
       "array(['SI2', 'SI1', 'VS1', 'VS2', 'VVS1', 'I1', 'VVS2', 'IF'],\n",
       "      dtype=object)"
      ]
     },
     "execution_count": 12,
     "metadata": {},
     "output_type": "execute_result"
    }
   ],
   "source": [
    "diamond_data['clarity'].unique()"
   ]
  },
  {
   "cell_type": "markdown",
   "metadata": {},
   "source": [
    "- Question wanted the joint prob for a diamond with carat of >0.5 and clarity SI1"
   ]
  }
 ],
 "metadata": {
  "kernelspec": {
   "display_name": "Python 3",
   "language": "python",
   "name": "python3"
  },
  "language_info": {
   "codemirror_mode": {
    "name": "ipython",
    "version": 3
   },
   "file_extension": ".py",
   "mimetype": "text/x-python",
   "name": "python",
   "nbconvert_exporter": "python",
   "pygments_lexer": "ipython3",
   "version": "3.12.4"
  }
 },
 "nbformat": 4,
 "nbformat_minor": 2
}
