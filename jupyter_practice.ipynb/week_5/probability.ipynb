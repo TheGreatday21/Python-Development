{
 "cells": [
  {
   "cell_type": "markdown",
   "metadata": {},
   "source": [
    "- Probability includes\n",
    "1. Marginal Prob - for a single variable \n",
    "2. Joint prob - for two events \n",
    "3. Conditional prob - for an event to occur if another occurs "
   ]
  },
  {
   "cell_type": "markdown",
   "metadata": {},
   "source": [
    "## Example \n",
    "Imagine 20 marbles in a bag\n",
    "- 8 are red and smooth \n",
    "- 5 are red and rough \n",
    "- 4 are blue and smooth \n",
    "- 3 are blue and rough \n",
    "\n",
    "Get the :-\n",
    "1. Prob of getting a red marble </br>\n",
    "    this is marginal prob \n",
    "    P(R) = no of events / sample space\n",
    "    P(R) = (8+5)/20 \n",
    "    P(R) = 13/20 \n",
    "    P(R) = 0.65\n",
    "2. Prob of a smooth marble </br>\n",
    "    This is still marginal prob\n",
    "    P(S) =no of events/sample space\n",
    "    P(S) = (8+4)/20\n",
    "    P(S) = 12/20\n",
    "    P(S) = 0.6"
   ]
  },
  {
   "cell_type": "markdown",
   "metadata": {},
   "source": [
    "- In python "
   ]
  },
  {
   "cell_type": "code",
   "execution_count": 3,
   "metadata": {},
   "outputs": [
    {
     "name": "stdout",
     "output_type": "stream",
     "text": [
      "The probability of getting a red marble is 0.65\n",
      "The probability of getting a red marble is 0.6\n"
     ]
    }
   ],
   "source": [
    "# Get  MARGINAL PROBABILITY\n",
    "#1.Prob of getting a red marble\n",
    "sample_space = 20\n",
    "red_smooth = 8\n",
    "red_rough = 5\n",
    "blue_smooth = 4\n",
    "blue_rough = 3\n",
    "red = red_smooth + red_rough\n",
    "prob_red = red/sample_space\n",
    "print(f\"The probability of getting a red marble is {prob_red}\")\n",
    "\n",
    "\n",
    "#2. Prob of getting smooth marble \n",
    "sample_space = 20\n",
    "red_smooth = 8\n",
    "red_rough = 5\n",
    "blue_smooth = 4\n",
    "blue_rough = 3\n",
    "smooth = blue_smooth+red_smooth\n",
    "prob_smooth = smooth/sample_space\n",
    "print(f\"The probability of getting a red marble is {prob_smooth}\")"
   ]
  },
  {
   "cell_type": "code",
   "execution_count": 6,
   "metadata": {},
   "outputs": [
    {
     "name": "stdout",
     "output_type": "stream",
     "text": [
      "The probability of getting a red and smooth marble is 0.6\n"
     ]
    }
   ],
   "source": [
    "# Get  JOINT PROBABILITY\n",
    "#1.Prob of getting a marble that is both red and smooth \n",
    "#In this case the red an smooth variable was already stated for us  \n",
    "sample_space = 20\n",
    "red_smooth = 8\n",
    "red_rough = 5\n",
    "blue_smooth = 4\n",
    "blue_rough = 3\n",
    "\n",
    "prob_red_smooth = red_smooth/sample_space\n",
    "print(f\"The probability of getting a red and smooth marble is {prob_smooth}\")\n"
   ]
  }
 ],
 "metadata": {
  "kernelspec": {
   "display_name": "Python 3",
   "language": "python",
   "name": "python3"
  },
  "language_info": {
   "codemirror_mode": {
    "name": "ipython",
    "version": 3
   },
   "file_extension": ".py",
   "mimetype": "text/x-python",
   "name": "python",
   "nbconvert_exporter": "python",
   "pygments_lexer": "ipython3",
   "version": "3.12.4"
  }
 },
 "nbformat": 4,
 "nbformat_minor": 2
}
