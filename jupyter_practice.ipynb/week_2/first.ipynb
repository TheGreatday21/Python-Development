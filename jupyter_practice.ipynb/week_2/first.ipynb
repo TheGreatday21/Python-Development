{
 "cells": [
  {
   "cell_type": "markdown",
   "metadata": {},
   "source": [
    "<!--The # are for headings,the more the #s the smaller the heading-->\n",
    "# Data Science and analytics\n",
    "## Computer Science\n",
    "### Information Technology\n",
    "<!--The <br /> is used to break our text-->\n",
    "- This is a <br />paragraph \n",
    "<!--The `` are used to highlight text -->\n",
    "- From the anova test `123`\n"
   ]
  },
  {
   "cell_type": "code",
   "execution_count": 2,
   "metadata": {},
   "outputs": [
    {
     "name": "stdout",
     "output_type": "stream",
     "text": [
      "Hello world\n"
     ]
    }
   ],
   "source": [
    "print(\"Hello world\")"
   ]
  },
  {
   "cell_type": "markdown",
   "metadata": {},
   "source": [
    "- Kawooma Elijah\n",
    "- B29158\n",
    "- BSDS"
   ]
  }
 ],
 "metadata": {
  "kernelspec": {
   "display_name": "Python 3",
   "language": "python",
   "name": "python3"
  },
  "language_info": {
   "codemirror_mode": {
    "name": "ipython",
    "version": 3
   },
   "file_extension": ".py",
   "mimetype": "text/x-python",
   "name": "python",
   "nbconvert_exporter": "python",
   "pygments_lexer": "ipython3",
   "version": "3.12.4"
  }
 },
 "nbformat": 4,
 "nbformat_minor": 2
}
