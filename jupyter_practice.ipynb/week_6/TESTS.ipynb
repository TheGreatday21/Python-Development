{
 "cells": [
  {
   "cell_type": "markdown",
   "metadata": {},
   "source": [
    "T test \n",
    "Z test\n",
    "SCIPY LIBRARY "
   ]
  }
 ],
 "metadata": {
  "language_info": {
   "name": "python"
  }
 },
 "nbformat": 4,
 "nbformat_minor": 2
}
