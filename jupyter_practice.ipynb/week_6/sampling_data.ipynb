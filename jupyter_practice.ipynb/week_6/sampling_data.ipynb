{
 "cells": [
  {
   "cell_type": "markdown",
   "metadata": {},
   "source": [
    "Two types of sampling </br>\n",
    "- Stratified sampling - data split into strata. Prior knowledge is required about the data.\n",
    "- Simple random sampling - data is randomly chosen . The probability of all events is the same cause choosing is random \n",
    "- Cluster sampling - Data is divided into smaller known groups.\n",
    "- Systematic sampling - Selecting samples from data at predetermined intervals . Can be biased if there is no specific order to the data \n",
    "- Convenience sampling - Sampling from a population based on its availability . Like asking guys about a product in a mall. This is the cheapest type of sampling .\n",
    "\n"
   ]
  },
  {
   "cell_type": "markdown",
   "metadata": {},
   "source": [
    "### How to choose a right sampling method\n",
    "1. Population size and distribution. (large population  - cluster and systematic sampling)\n",
    "2. Resources available -simple random sampling can be expensive for a large population\n",
    "3. Desired level of precision - Stratified sampling can improve precision.\n",
    "4. Population density   - Stratified sampling works best for diverse population . "
   ]
  }
 ],
 "metadata": {
  "language_info": {
   "name": "python"
  }
 },
 "nbformat": 4,
 "nbformat_minor": 2
}
