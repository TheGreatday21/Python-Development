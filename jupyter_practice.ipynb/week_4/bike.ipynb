{
 "cells": [
  {
   "cell_type": "markdown",
   "metadata": {},
   "source": [
    "Simple data exploration practice "
   ]
  },
  {
   "cell_type": "code",
   "execution_count": 1,
   "metadata": {},
   "outputs": [],
   "source": [
    "#import neccessary libraries\n",
    "import numpy as np\n",
    "import pandas as pd\n",
    "import matplotlib.pyplot as plt\n",
    "import scipy\n",
    "import scipy.stats"
   ]
  },
  {
   "cell_type": "code",
   "execution_count": 2,
   "metadata": {},
   "outputs": [],
   "source": [
    "data = pd.read_excel(\"/Users/keksmacbookair/Desktop/COURSE_WORKS/Year_One/course_work_sem_2/Probability_and_statistics/data_Sets/Bike_Sales.xlsx\")"
   ]
  },
  {
   "cell_type": "code",
   "execution_count": 3,
   "metadata": {},
   "outputs": [
    {
     "data": {
      "text/html": [
       "<div>\n",
       "<style scoped>\n",
       "    .dataframe tbody tr th:only-of-type {\n",
       "        vertical-align: middle;\n",
       "    }\n",
       "\n",
       "    .dataframe tbody tr th {\n",
       "        vertical-align: top;\n",
       "    }\n",
       "\n",
       "    .dataframe thead th {\n",
       "        text-align: right;\n",
       "    }\n",
       "</style>\n",
       "<table border=\"1\" class=\"dataframe\">\n",
       "  <thead>\n",
       "    <tr style=\"text-align: right;\">\n",
       "      <th></th>\n",
       "      <th>Date</th>\n",
       "      <th>Day</th>\n",
       "      <th>Month</th>\n",
       "      <th>Year</th>\n",
       "      <th>Customer_Age</th>\n",
       "      <th>Age_Group</th>\n",
       "      <th>Customer_Gender</th>\n",
       "      <th>Country</th>\n",
       "      <th>State</th>\n",
       "      <th>Product_Category</th>\n",
       "      <th>Sub_Category</th>\n",
       "      <th>Product</th>\n",
       "      <th>Order_Quantity</th>\n",
       "      <th>Unit_Cost</th>\n",
       "      <th>Unit_Price</th>\n",
       "      <th>Profit</th>\n",
       "      <th>Cost</th>\n",
       "      <th>Revenue</th>\n",
       "    </tr>\n",
       "  </thead>\n",
       "  <tbody>\n",
       "    <tr>\n",
       "      <th>0</th>\n",
       "      <td>2017-01-01</td>\n",
       "      <td>1</td>\n",
       "      <td>January</td>\n",
       "      <td>2017</td>\n",
       "      <td>17</td>\n",
       "      <td>Youth (&lt;25)</td>\n",
       "      <td>M</td>\n",
       "      <td>Canada</td>\n",
       "      <td>British Columbia</td>\n",
       "      <td>Bikes</td>\n",
       "      <td>Road Bikes</td>\n",
       "      <td>Road-250 Red, 44</td>\n",
       "      <td>2</td>\n",
       "      <td>1519</td>\n",
       "      <td>2443</td>\n",
       "      <td>1848</td>\n",
       "      <td>3038</td>\n",
       "      <td>4886</td>\n",
       "    </tr>\n",
       "    <tr>\n",
       "      <th>1</th>\n",
       "      <td>2017-01-01</td>\n",
       "      <td>1</td>\n",
       "      <td>January</td>\n",
       "      <td>2017</td>\n",
       "      <td>23</td>\n",
       "      <td>Youth (&lt;25)</td>\n",
       "      <td>M</td>\n",
       "      <td>Australia</td>\n",
       "      <td>Victoria</td>\n",
       "      <td>Bikes</td>\n",
       "      <td>Mountain Bikes</td>\n",
       "      <td>Mountain-200 Black, 46</td>\n",
       "      <td>2</td>\n",
       "      <td>1252</td>\n",
       "      <td>2295</td>\n",
       "      <td>2086</td>\n",
       "      <td>2504</td>\n",
       "      <td>4590</td>\n",
       "    </tr>\n",
       "    <tr>\n",
       "      <th>2</th>\n",
       "      <td>2017-01-01</td>\n",
       "      <td>1</td>\n",
       "      <td>January</td>\n",
       "      <td>2017</td>\n",
       "      <td>33</td>\n",
       "      <td>Young Adults (25-34)</td>\n",
       "      <td>F</td>\n",
       "      <td>France</td>\n",
       "      <td>Yveline</td>\n",
       "      <td>Bikes</td>\n",
       "      <td>Road Bikes</td>\n",
       "      <td>Road-150 Red, 48</td>\n",
       "      <td>2</td>\n",
       "      <td>2171</td>\n",
       "      <td>3578</td>\n",
       "      <td>2814</td>\n",
       "      <td>4342</td>\n",
       "      <td>7156</td>\n",
       "    </tr>\n",
       "    <tr>\n",
       "      <th>3</th>\n",
       "      <td>2017-01-01</td>\n",
       "      <td>1</td>\n",
       "      <td>January</td>\n",
       "      <td>2017</td>\n",
       "      <td>39</td>\n",
       "      <td>Adults (35-64)</td>\n",
       "      <td>M</td>\n",
       "      <td>United States</td>\n",
       "      <td>Washington</td>\n",
       "      <td>Bikes</td>\n",
       "      <td>Road Bikes</td>\n",
       "      <td>Road-550-W Yellow, 38</td>\n",
       "      <td>2</td>\n",
       "      <td>713</td>\n",
       "      <td>1120</td>\n",
       "      <td>814</td>\n",
       "      <td>1426</td>\n",
       "      <td>2240</td>\n",
       "    </tr>\n",
       "    <tr>\n",
       "      <th>4</th>\n",
       "      <td>2017-01-01</td>\n",
       "      <td>1</td>\n",
       "      <td>January</td>\n",
       "      <td>2017</td>\n",
       "      <td>42</td>\n",
       "      <td>Adults (35-64)</td>\n",
       "      <td>M</td>\n",
       "      <td>United States</td>\n",
       "      <td>California</td>\n",
       "      <td>Bikes</td>\n",
       "      <td>Road Bikes</td>\n",
       "      <td>Road-750 Black, 44</td>\n",
       "      <td>2</td>\n",
       "      <td>344</td>\n",
       "      <td>540</td>\n",
       "      <td>392</td>\n",
       "      <td>688</td>\n",
       "      <td>1080</td>\n",
       "    </tr>\n",
       "  </tbody>\n",
       "</table>\n",
       "</div>"
      ],
      "text/plain": [
       "        Date  Day    Month  Year  Customer_Age             Age_Group  \\\n",
       "0 2017-01-01    1  January  2017            17           Youth (<25)   \n",
       "1 2017-01-01    1  January  2017            23           Youth (<25)   \n",
       "2 2017-01-01    1  January  2017            33  Young Adults (25-34)   \n",
       "3 2017-01-01    1  January  2017            39        Adults (35-64)   \n",
       "4 2017-01-01    1  January  2017            42        Adults (35-64)   \n",
       "\n",
       "  Customer_Gender        Country             State Product_Category  \\\n",
       "0               M         Canada  British Columbia            Bikes   \n",
       "1               M      Australia          Victoria            Bikes   \n",
       "2               F         France           Yveline            Bikes   \n",
       "3               M  United States        Washington            Bikes   \n",
       "4               M  United States        California            Bikes   \n",
       "\n",
       "     Sub_Category                 Product  Order_Quantity  Unit_Cost  \\\n",
       "0      Road Bikes        Road-250 Red, 44               2       1519   \n",
       "1  Mountain Bikes  Mountain-200 Black, 46               2       1252   \n",
       "2      Road Bikes        Road-150 Red, 48               2       2171   \n",
       "3      Road Bikes   Road-550-W Yellow, 38               2        713   \n",
       "4      Road Bikes      Road-750 Black, 44               2        344   \n",
       "\n",
       "   Unit_Price  Profit  Cost  Revenue  \n",
       "0        2443    1848  3038     4886  \n",
       "1        2295    2086  2504     4590  \n",
       "2        3578    2814  4342     7156  \n",
       "3        1120     814  1426     2240  \n",
       "4         540     392   688     1080  "
      ]
     },
     "execution_count": 3,
     "metadata": {},
     "output_type": "execute_result"
    }
   ],
   "source": [
    "#first five columns of the data\n",
    "data.head()"
   ]
  },
  {
   "cell_type": "markdown",
   "metadata": {},
   "source": [
    "2. Explore the datasets by identifying the data type of each variable."
   ]
  },
  {
   "cell_type": "code",
   "execution_count": 4,
   "metadata": {},
   "outputs": [
    {
     "data": {
      "text/plain": [
       "Date                datetime64[ns]\n",
       "Day                          int64\n",
       "Month                       object\n",
       "Year                         int64\n",
       "Customer_Age                 int64\n",
       "Age_Group                   object\n",
       "Customer_Gender             object\n",
       "Country                     object\n",
       "State                       object\n",
       "Product_Category            object\n",
       "Sub_Category                object\n",
       "Product                     object\n",
       "Order_Quantity               int64\n",
       "Unit_Cost                    int64\n",
       "Unit_Price                   int64\n",
       "Profit                       int64\n",
       "Cost                         int64\n",
       "Revenue                      int64\n",
       "dtype: object"
      ]
     },
     "execution_count": 4,
     "metadata": {},
     "output_type": "execute_result"
    }
   ],
   "source": [
    "data.dtypes\n",
    "#there are 9 continuous variables\n",
    "#there are 8 categorical variables "
   ]
  },
  {
   "cell_type": "markdown",
   "metadata": {},
   "source": [
    "3. Describe the central tendency of two continuous variables."
   ]
  },
  {
   "cell_type": "code",
   "execution_count": null,
   "metadata": {},
   "outputs": [],
   "source": [
    "#2 continuous variables [Unit_Cost,Revenue]\n",
    "data[['Unit_Cost','Revenue']].describe()\n",
    "#Unit_Cost has a mean `267.296366` and median `9.000000`   Its mean is greater than the median therefore it is positively skewed meaning that it has a limit on the minimum cost of a bike and no limit on the maximum cost of a bike \n",
    "#Revenue has a mean `842.000053` and a median `245.000000` Its mean is greater than the median therefore it is positively skewed meaning that it has a limit on the minimum revenue earned from the sales  and no limit on the maximum revenue earned from the sales \n"
   ]
  },
  {
   "cell_type": "markdown",
   "metadata": {},
   "source": [
    "- Visualization"
   ]
  },
  {
   "cell_type": "code",
   "execution_count": 9,
   "metadata": {},
   "outputs": [
    {
     "data": {
      "text/plain": [
       "array([[<Axes: title={'center': 'Unit_Cost'}>,\n",
       "        <Axes: title={'center': 'Revenue'}>]], dtype=object)"
      ]
     },
     "execution_count": 9,
     "metadata": {},
     "output_type": "execute_result"
    },
    {
     "data": {
      "image/png": "[encoded data removed]",
      "text/plain": [
       "<Figure size 640x480 with 2 Axes>"
      ]
     },
     "metadata": {},
     "output_type": "display_data"
    }
   ],
   "source": [
    "data[['Unit_Cost','Revenue']].hist()"
   ]
  },
  {
   "cell_type": "markdown",
   "metadata": {},
   "source": [
    "4. Generate graphs to show the variability/dispersion on one continuous variable and one categorical variable."
   ]
  },
  {
   "cell_type": "code",
   "execution_count": null,
   "metadata": {},
   "outputs": [],
   "source": []
  },
  {
   "cell_type": "code",
   "execution_count": null,
   "metadata": {},
   "outputs": [],
   "source": []
  },
  {
   "cell_type": "code",
   "execution_count": null,
   "metadata": {},
   "outputs": [],
   "source": []
  },
  {
   "cell_type": "code",
   "execution_count": null,
   "metadata": {},
   "outputs": [],
   "source": []
  },
  {
   "cell_type": "code",
   "execution_count": null,
   "metadata": {},
   "outputs": [],
   "source": []
  },
  {
   "cell_type": "code",
   "execution_count": null,
   "metadata": {},
   "outputs": [],
   "source": []
  },
  {
   "cell_type": "code",
   "execution_count": null,
   "metadata": {},
   "outputs": [],
   "source": []
  },
  {
   "cell_type": "code",
   "execution_count": null,
   "metadata": {},
   "outputs": [],
   "source": []
  },
  {
   "cell_type": "code",
   "execution_count": null,
   "metadata": {},
   "outputs": [],
   "source": []
  }
 ],
 "metadata": {
  "kernelspec": {
   "display_name": "Python 3",
   "language": "python",
   "name": "python3"
  },
  "language_info": {
   "codemirror_mode": {
    "name": "ipython",
    "version": 3
   },
   "file_extension": ".py",
   "mimetype": "text/x-python",
   "name": "python",
   "nbconvert_exporter": "python",
   "pygments_lexer": "ipython3",
   "version": "3.12.4"
  }
 },
 "nbformat": 4,
 "nbformat_minor": 2
}
