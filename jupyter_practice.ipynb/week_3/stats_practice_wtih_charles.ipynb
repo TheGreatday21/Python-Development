{
 "cells": [
  {
   "cell_type": "markdown",
   "metadata": {},
   "source": [
    "#### Statistics is the science of collecting, analyzing,interpreting,presenting and organizing data \n",
    "\n",
    "##### MEASURES OF CENTRAL TENDENCY\n",
    "1. Mean - Sum of all values in the data set divided by the number of values in the data set \n",
    "2. Mode - The value that appears most frequently in a data set.\n",
    "3. Median  - The middle value when a data set is ordered from smallest to biggest \n",
    "\n",
    "#### MEASURES OF DISPERSSION\n",
    "1. Standard deviation \n",
    "2. Range \n",
    "3. Variance\n",
    "4. Percentiles\n",
    "\n",
    "#### MEAN\n",
    "mean = (Ex/N)"
   ]
  },
  {
   "cell_type": "code",
   "execution_count": 24,
   "metadata": {},
   "outputs": [
    {
     "name": "stdout",
     "output_type": "stream",
     "text": [
      "18.11111111111111\n"
     ]
    }
   ],
   "source": [
    "import numpy as np\n",
    "data = np.array([5,8,12,15,18,22,25,28,30])\n",
    "data\n",
    "#### mean\n",
    "mean = (5+8+12+15+18+22+25+28+30)/9\n",
    "print(mean)\n",
    "####median\n",
    "#the values are an odd number \n",
    "#5 - 30\n",
    "#8 - 28\n",
    "#12 - 25\n",
    "#15 - 28\n",
    "#therefore the median is 18"
   ]
  },
  {
   "cell_type": "markdown",
   "metadata": {},
   "source": [
    "### RANGE"
   ]
  },
  {
   "cell_type": "code",
   "execution_count": 11,
   "metadata": {},
   "outputs": [
    {
     "data": {
      "text/plain": [
       "25"
      ]
     },
     "execution_count": 11,
     "metadata": {},
     "output_type": "execute_result"
    }
   ],
   "source": [
    "# from the data set the min number 9s 5 and the maximum is 25\n",
    "#therefore the range is goung to be \n",
    "#range = max - min\n",
    "range = 30 - 5\n",
    "range"
   ]
  },
  {
   "cell_type": "markdown",
   "metadata": {},
   "source": [
    "### VARIANCE\n",
    "VARIANCE = E( X - mean)^2 // N\n",
    "where X is each number in the data set "
   ]
  },
  {
   "cell_type": "code",
   "execution_count": 15,
   "metadata": {},
   "outputs": [
    {
     "name": "stdout",
     "output_type": "stream",
     "text": [
      "69.20987777777778\n"
     ]
    }
   ],
   "source": [
    "VARIANCE = (((5 - 18.11 )**2)+((8 - 18.11 )**2)+((12 - 18.11 )**2)+((15 - 18.11 )**2)+((18 - 18.11 )**2)+((22 - 18.11 )**2)+((25 - 18.11 )**2)+((28 - 18.11 )**2)+((30 - 18.11 )**2))/9\n",
    "print(VARIANCE)"
   ]
  },
  {
   "cell_type": "markdown",
   "metadata": {},
   "source": [
    "### STANDARD DEVIATION IS THE SQUARE ROOT OF VARIANCE"
   ]
  },
  {
   "cell_type": "code",
   "execution_count": 32,
   "metadata": {},
   "outputs": [
    {
     "name": "stdout",
     "output_type": "stream",
     "text": [
      "The standard deviation of the data is 8.3192\n"
     ]
    }
   ],
   "source": [
    "#To use the square root function we have to first import the math library\n",
    "import math \n",
    "\n",
    "S_D = math.sqrt(VARIANCE)\n",
    "print(f'The standard deviation of the data is {S_D:.5}')# the .5 is to specify the number of values it should have "
   ]
  },
  {
   "cell_type": "markdown",
   "metadata": {},
   "source": [
    "EXAMPLE 2 (making life easy with numpy)\n",
    "--------------------------------------------------------------------------------------------------------------------------------------------------------------------------\n"
   ]
  },
  {
   "cell_type": "code",
   "execution_count": null,
   "metadata": {},
   "outputs": [],
   "source": [
    "#first import libraries\n",
    "import numpy as np\n",
    "import pandas as pd"
   ]
  },
  {
   "cell_type": "code",
   "execution_count": 43,
   "metadata": {},
   "outputs": [
    {
     "name": "stdout",
     "output_type": "stream",
     "text": [
      "Data [5, 8, 12, 15, 18, 22, 25, 28, 30]\n",
      "Mean 18.11111111111111\n",
      "Median 18.0\n",
      "Mode [5, 8, 12, 15, 18, 22, 25, 28, 30]\n",
      "Range 25\n",
      "Variance 77.8611\n",
      "Standard deviation 8.82389\n",
      "Standard deviation 8.82389\n",
      "Lower quartile  12.0\n",
      "Upper quartile  25.0\n",
      "Inter-quartile range 13.0\n"
     ]
    }
   ],
   "source": [
    "#create a data set in form of a list \n",
    "data  = [5,8,12,15,18,22,25,28,30]\n",
    "print(\"Data\",data)\n",
    "\n",
    "#mean value\n",
    "mean_value = np.mean(data)\n",
    "print(\"Mean\",mean_value)\n",
    "\n",
    "#median value\n",
    "median_value = np.median(data)\n",
    "print(\"Median\",median_value)\n",
    "\n",
    "#mode value \n",
    "mode_value = pd.Series(data).mode()\n",
    "print(f\"Mode {mode_value.tolist() if not mode_value.empty else 'No mode'}\")\n",
    "#Mode [5, 8, 12, 15, 18, 22, 25, 28, 30] is the output because there are no repeating values in the data set\n",
    "\n",
    "#range\n",
    "range_value = np.max(data ) - np.min(data)\n",
    "print(\"Range\",range_value)\n",
    "\n",
    "#variance\n",
    "variance_value = np.var(data, ddof=1)\n",
    "print(f\"Variance {variance_value:.6}\")\n",
    "\n",
    "#standard deviation\n",
    "#Method 1\n",
    "S_D_value = np.sqrt(variance_value)\n",
    "print(f'Standard deviation {S_D_value :.6}')\n",
    "#Method 2\n",
    "S_D_2 = np.std(data,ddof =1)\n",
    "print(f'Standard deviation {S_D_2 :.6}')\n",
    "\n",
    "#inter-quartile range\n",
    "q1 = np.percentile(data, 25) #here we specify the source of our data and the percentile range as well\n",
    "print(\"Lower quartile \",q1)\n",
    "q3 = np.percentile(data, 75)\n",
    "print(\"Upper quartile \",q3)\n",
    "iqr = q3 - q1\n",
    "print(\"Inter-quartile range\",iqr)"
   ]
  },
  {
   "cell_type": "markdown",
   "metadata": {},
   "source": [
    "EXAMPLE 3 (USING PANDAS FOR STATS)\n",
    "--------------------------------------------------------------------------------------------------------------------------------------------------------------------------\n"
   ]
  },
  {
   "cell_type": "code",
   "execution_count": 46,
   "metadata": {},
   "outputs": [
    {
     "data": {
      "text/plain": [
       "count     12.000000\n",
       "mean     216.500000\n",
       "std       26.001748\n",
       "min      180.000000\n",
       "25%      198.750000\n",
       "50%      212.500000\n",
       "75%      234.500000\n",
       "max      260.000000\n",
       "dtype: float64"
      ]
     },
     "execution_count": 46,
     "metadata": {},
     "output_type": "execute_result"
    }
   ],
   "source": [
    "#import the data libraries\n",
    "import pandas as pd\n",
    "Expenses = [220,185,210,250,248,195,180,230,200,260,215,205]\n",
    "data = pd.Series(Expenses)\n",
    "data.head()##12 entries\n",
    "#i think this is the best to even describe the data\n",
    "data.describe()#easy hack to get all the stats at once"
   ]
  },
  {
   "cell_type": "code",
   "execution_count": 75,
   "metadata": {},
   "outputs": [
    {
     "name": "stdout",
     "output_type": "stream",
     "text": [
      "Mean 216.5 \n",
      "\n",
      "Median 212.5\n",
      "\n",
      "Variance 676.0909090909091\n",
      "\n",
      "This is the standard deviation 26.001748192975587\n",
      "\n",
      "The range is 80\n",
      "\n",
      "Lower quantile 198.75\n",
      "Upper quantile 234.5\n",
      "Our inter-quantile range is 35.75\n"
     ]
    }
   ],
   "source": [
    "#mean\n",
    "print(f\"Mean {data.mean()} \\n\")\n",
    "\n",
    "#median\n",
    "print(f\"Median {data.median()}\\n\")\n",
    "\n",
    "#variance\n",
    "print(f\"Variance {data.var()}\\n\")\n",
    "\n",
    "#standard deviation\n",
    "print(f'This is the standard deviation {data.std()}\\n')\n",
    "\n",
    "#range\n",
    "print(f'The range is {data.max() - data.min()}\\n')\n",
    "\n",
    "#inter-quantile range\n",
    "q1 = data.quantile(0.25)\n",
    "print('Lower quantile',q1)\n",
    "q3 = data.quantile(0.75)\n",
    "print('Upper quantile',q3)\n",
    "IQR = q3 - q1\n",
    "print(f'Our inter-quantile range is {IQR}')"
   ]
  },
  {
   "cell_type": "code",
   "execution_count": 72,
   "metadata": {},
   "outputs": [
    {
     "name": "stdout",
     "output_type": "stream",
     "text": [
      "no mode\n"
     ]
    }
   ],
   "source": [
    "#mode\n",
    "if(len(Expenses) == len(data.mode())):\n",
    "    print('no mode')\n",
    "else:\n",
    "    print(data.mode()[0])\n",
    "### create an if statement to compare the 2 arrays  and if the arrays are the same there is no mode but else we print the mode at the first index 0\n"
   ]
  },
  {
   "cell_type": "code",
   "execution_count": 76,
   "metadata": {},
   "outputs": [
    {
     "data": {
      "text/plain": [
       "<Axes: >"
      ]
     },
     "execution_count": 76,
     "metadata": {},
     "output_type": "execute_result"
    },
    {
     "data": {
      "image/png": "[encoded data removed]",
      "text/plain": [
       "<Figure size 640x480 with 1 Axes>"
      ]
     },
     "metadata": {},
     "output_type": "display_data"
    }
   ],
   "source": [
    "data.hist()"
   ]
  },
  {
   "cell_type": "code",
   "execution_count": null,
   "metadata": {},
   "outputs": [],
   "source": []
  }
 ],
 "metadata": {
  "kernelspec": {
   "display_name": "Python 3",
   "language": "python",
   "name": "python3"
  },
  "language_info": {
   "codemirror_mode": {
    "name": "ipython",
    "version": 3
   },
   "file_extension": ".py",
   "mimetype": "text/x-python",
   "name": "python",
   "nbconvert_exporter": "python",
   "pygments_lexer": "ipython3",
   "version": "3.12.4"
  }
 },
 "nbformat": 4,
 "nbformat_minor": 2
}
