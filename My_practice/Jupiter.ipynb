{
 "cells": [
  {
   "cell_type": "code",
   "execution_count": 8,
   "metadata": {},
   "outputs": [
    {
     "name": "stdout",
     "output_type": "stream",
     "text": [
      "Hello world\n",
      "You have input 3 names \n",
      "The names are dict[['ju', 'ol', 'li']]\n"
     ]
    }
   ],
   "source": [
    "print(\"Hello world\")\n",
    "def count():\n",
    "    count_name = 0\n",
    "    names = input(\"Write any names here:(make sure the names are seperated by a space)\")\n",
    "    names = names.split()\n",
    "    for name in names: \n",
    "        count_name +=1\n",
    "    print(f\"You have input {count_name} names \")\n",
    "    people = [names]\n",
    "    print(f\"The names are {people}\")\n",
    "count()\n"
   ]
  },
  {
   "cell_type": "code",
   "execution_count": 1,
   "metadata": {},
   "outputs": [],
   "source": [
    "i = 23\n",
    "while i <23:\n",
    "    print(f\"Your number is{str :i}\")\n",
    "    i +=1"
   ]
  },
  {
   "cell_type": "code",
   "execution_count": 3,
   "metadata": {},
   "outputs": [
    {
     "name": "stdout",
     "output_type": "stream",
     "text": [
      "70\n"
     ]
    }
   ],
   "source": [
    "age :int = 25\n",
    "deeds = age + 45\n",
    "print(deeds)"
   ]
  },
  {
   "cell_type": "code",
   "execution_count": null,
   "metadata": {},
   "outputs": [],
   "source": []
  }
 ],
 "metadata": {
  "kernelspec": {
   "display_name": "Python 3",
   "language": "python",
   "name": "python3"
  },
  "language_info": {
   "codemirror_mode": {
    "name": "ipython",
    "version": 3
   },
   "file_extension": ".py",
   "mimetype": "text/x-python",
   "name": "python",
   "nbconvert_exporter": "python",
   "pygments_lexer": "ipython3",
   "version": "3.12.4"
  }
 },
 "nbformat": 4,
 "nbformat_minor": 2
}
